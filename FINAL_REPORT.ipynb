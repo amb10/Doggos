{
 "cells": [
  {
   "cell_type": "markdown",
   "metadata": {},
   "source": [
    "# Introduction\n",
    "\n",
    "We were tasked with finding the **best neighborhood in Pittsburgh** by whatever means necessary.\n",
    "\n",
    "Initially, we started brainstorming some ideas for creative metrics to measure this.\n",
    "![GIF](https://media.giphy.com/media/2H67VmB5UEBmU/giphy.gif)\n",
    "\n",
    "Our initial ideas included best air quality, greatest number of restaurants, greatest number of parks, and best areas to shoot a scary movie.\n",
    "\n",
    "![GIF](https://media.giphy.com/media/ySVKduoNNFoRy/giphy.gif)\n",
    "![GIF](https://media.giphy.com/media/SbwGrFfajN4OI/giphy-downsized-large.gif)\n",
    "![GIF](https://media.giphy.com/media/GsJO3Yy0DCvEk/giphy.gif)\n",
    "\n",
    "Due to the databases available, these ideas were scrapped for our current metric."
   ]
  },
  {
   "cell_type": "markdown",
   "metadata": {},
   "source": [
    "# The Metric\n",
    "\n",
    "\"Describe your metric, what features are you measuring. What datasets  are you using?\""
   ]
  },
  {
   "cell_type": "markdown",
   "metadata": {},
   "source": [
    "# The Best Neighborhood\n",
    "\n",
    "\"Apply the metric from the previous section to determine the best neighborhood in Pittsburgh. Beyond just executing code, provide narrative about why you think this is the best neighborhood. Incorporate a data visualization, perhaps to rank all of the neighborhoods or show a neighborhood’s best-ness over time. The key is to make a data driven argument.\""
   ]
  },
  {
   "cell_type": "markdown",
   "metadata": {},
   "source": [
    "# Conclusion\n",
    "\n",
    "\"Reflect on how the data driven determination of “best neighborhood” is the same or different from your personal favorite neighborhood. Each member of the group should write their own response to this.\""
   ]
  }
 ],
 "metadata": {
  "kernelspec": {
   "display_name": "Python 3",
   "language": "python",
   "name": "python3"
  },
  "language_info": {
   "codemirror_mode": {
    "name": "ipython",
    "version": 3
   },
   "file_extension": ".py",
   "mimetype": "text/x-python",
   "name": "python",
   "nbconvert_exporter": "python",
   "pygments_lexer": "ipython3",
   "version": "3.8.3"
  }
 },
 "nbformat": 4,
 "nbformat_minor": 4
}
