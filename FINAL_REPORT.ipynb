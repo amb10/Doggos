{
 "cells": [
  {
   "cell_type": "markdown",
   "metadata": {},
   "source": [
    "# Introduction\n",
    "\n",
    "We were tasked with finding the **best neighborhood in Pittsburgh** by whatever means necessary.\n",
    "\n",
    "Initially, we started brainstorming some ideas for creative metrics to measure this.\n",
    "\n",
    "![GIF](https://media.giphy.com/media/2H67VmB5UEBmU/giphy.gif)\n",
    "\n",
    "Our initial ideas included best air quality, greatest number of restaurants, greatest number of parks, and best areas to shoot a scary movie.\n",
    "\n",
    "![GIF](https://media.giphy.com/media/10aADbYxnJlc9q/giphy.gif)\n",
    "![GIF](https://media.giphy.com/media/ySVKduoNNFoRy/giphy.gif)\n",
    "![GIF](https://media.giphy.com/media/SbwGrFfajN4OI/giphy-downsized-large.gif)\n",
    "![GIF](https://media.giphy.com/media/GsJO3Yy0DCvEk/giphy.gif)\n",
    "\n",
    "Due to the databases available, these ideas were scrapped for our current metric."
   ]
  },
  {
   "cell_type": "markdown",
   "metadata": {},
   "source": [
    "# The Metric\n",
    "\n",
    "The metric that we decided to use is the most dog friendly neighborhood in Pittsburgh since the best neighborhoods in Pittsburgh should also be the best for a man's best friend.\n",
    "\n",
    "![GIF](https://media.giphy.com/media/f4HpCDvF84oh2/giphy.gif)\n",
    "\n",
    "The features that we are measuring are occupied housing units, number of dog licenses, and availability of supermarkets. "
   ]
  },
  {
   "cell_type": "code",
   "execution_count": 2,
   "metadata": {},
   "outputs": [],
   "source": [
    "import pandas as pd\n",
    "import numpy as np\n",
    "%matplotlib inline\n",
    "import matplotlib.pyplot as plt\n",
    "\n",
    "houses_pandas = pd.read_csv(\"PittsburghHouses.tsv\" , sep='\\t')\n",
    "dl = pd.read_csv(\"DogLicenses.csv\", index_col = \"DogName\")\n",
    "stores_data = pd.read_csv(\"data-conveniencesupermarkets.csv\")"
   ]
  },
  {
   "cell_type": "markdown",
   "metadata": {},
   "source": [
    "**Housing Database:** The number of occupied units in 2010 of Pittsburgh neighborhoods."
   ]
  },
  {
   "cell_type": "code",
   "execution_count": 3,
   "metadata": {},
   "outputs": [
    {
     "data": {
      "text/html": [
       "<div>\n",
       "<style scoped>\n",
       "    .dataframe tbody tr th:only-of-type {\n",
       "        vertical-align: middle;\n",
       "    }\n",
       "\n",
       "    .dataframe tbody tr th {\n",
       "        vertical-align: top;\n",
       "    }\n",
       "\n",
       "    .dataframe thead th {\n",
       "        text-align: right;\n",
       "    }\n",
       "</style>\n",
       "<table border=\"1\" class=\"dataframe\">\n",
       "  <thead>\n",
       "    <tr style=\"text-align: right;\">\n",
       "      <th></th>\n",
       "      <th>Neighborhood</th>\n",
       "      <th>Sector #</th>\n",
       "      <th>Population (2010)</th>\n",
       "      <th>Total # Units (2000)</th>\n",
       "      <th>Total # Units (2010)</th>\n",
       "      <th>% Occupied Units (2010)</th>\n",
       "      <th>% Vacant Units (2010)</th>\n",
       "      <th># Occupied Units (2010)</th>\n",
       "      <th>% Owner Occupied Units (2010)</th>\n",
       "      <th>% Renter Occupied Units (2010)</th>\n",
       "      <th>...</th>\n",
       "      <th>% Units Built before 1939</th>\n",
       "      <th>Median Home Value (2000)</th>\n",
       "      <th>Med. Val. ('00 in '10 Dollars)</th>\n",
       "      <th>Median Home  Value (2010)</th>\n",
       "      <th>% Change Real Value 2000-2010</th>\n",
       "      <th>Median Sale Price (2010)</th>\n",
       "      <th># Sales Counted (2010)</th>\n",
       "      <th>Foreclosures (2008)</th>\n",
       "      <th>Foreclosures (2010)</th>\n",
       "      <th>% of all Housing Units Foreclosed (2010)</th>\n",
       "    </tr>\n",
       "  </thead>\n",
       "  <tbody>\n",
       "    <tr>\n",
       "      <th>54</th>\n",
       "      <td>New Homestead</td>\n",
       "      <td>8</td>\n",
       "      <td>990</td>\n",
       "      <td>387</td>\n",
       "      <td>429</td>\n",
       "      <td>0.939394</td>\n",
       "      <td>0.060606</td>\n",
       "      <td>436</td>\n",
       "      <td>0.903670</td>\n",
       "      <td>0.096330</td>\n",
       "      <td>...</td>\n",
       "      <td>0.245413</td>\n",
       "      <td>90900.0</td>\n",
       "      <td>115106.722543</td>\n",
       "      <td>117400.0</td>\n",
       "      <td>0.019923</td>\n",
       "      <td>100000.0</td>\n",
       "      <td>11</td>\n",
       "      <td>3</td>\n",
       "      <td>3</td>\n",
       "      <td>0.006993</td>\n",
       "    </tr>\n",
       "    <tr>\n",
       "      <th>76</th>\n",
       "      <td>Squirrel Hill South</td>\n",
       "      <td>10</td>\n",
       "      <td>15110</td>\n",
       "      <td>7069</td>\n",
       "      <td>7514</td>\n",
       "      <td>0.945568</td>\n",
       "      <td>0.054432</td>\n",
       "      <td>7135</td>\n",
       "      <td>0.456202</td>\n",
       "      <td>0.543798</td>\n",
       "      <td>...</td>\n",
       "      <td>0.493483</td>\n",
       "      <td>134633.0</td>\n",
       "      <td>170485.845723</td>\n",
       "      <td>201400.0</td>\n",
       "      <td>0.181330</td>\n",
       "      <td>218250.0</td>\n",
       "      <td>176</td>\n",
       "      <td>12</td>\n",
       "      <td>2</td>\n",
       "      <td>0.000266</td>\n",
       "    </tr>\n",
       "    <tr>\n",
       "      <th>17</th>\n",
       "      <td>Central Lawrenceville</td>\n",
       "      <td>13</td>\n",
       "      <td>4482</td>\n",
       "      <td>2904</td>\n",
       "      <td>2670</td>\n",
       "      <td>0.858801</td>\n",
       "      <td>0.141199</td>\n",
       "      <td>2388</td>\n",
       "      <td>0.491625</td>\n",
       "      <td>0.508375</td>\n",
       "      <td>...</td>\n",
       "      <td>0.763509</td>\n",
       "      <td>41950.0</td>\n",
       "      <td>53121.309249</td>\n",
       "      <td>66850.0</td>\n",
       "      <td>0.258440</td>\n",
       "      <td>67500.0</td>\n",
       "      <td>107</td>\n",
       "      <td>11</td>\n",
       "      <td>11</td>\n",
       "      <td>0.004120</td>\n",
       "    </tr>\n",
       "    <tr>\n",
       "      <th>22</th>\n",
       "      <td>Crafton Heights</td>\n",
       "      <td>4</td>\n",
       "      <td>3814</td>\n",
       "      <td>1819</td>\n",
       "      <td>1836</td>\n",
       "      <td>0.885076</td>\n",
       "      <td>0.114924</td>\n",
       "      <td>1634</td>\n",
       "      <td>0.627907</td>\n",
       "      <td>0.372093</td>\n",
       "      <td>...</td>\n",
       "      <td>0.407254</td>\n",
       "      <td>64450.0</td>\n",
       "      <td>81613.072254</td>\n",
       "      <td>76650.0</td>\n",
       "      <td>-0.060812</td>\n",
       "      <td>40000.0</td>\n",
       "      <td>60</td>\n",
       "      <td>29</td>\n",
       "      <td>18</td>\n",
       "      <td>0.009804</td>\n",
       "    </tr>\n",
       "    <tr>\n",
       "      <th>1</th>\n",
       "      <td>Allegheny West</td>\n",
       "      <td>3</td>\n",
       "      <td>462</td>\n",
       "      <td>390</td>\n",
       "      <td>355</td>\n",
       "      <td>0.749296</td>\n",
       "      <td>0.250704</td>\n",
       "      <td>203</td>\n",
       "      <td>0.182266</td>\n",
       "      <td>0.817734</td>\n",
       "      <td>...</td>\n",
       "      <td>0.574468</td>\n",
       "      <td>159700.0</td>\n",
       "      <td>202228.202312</td>\n",
       "      <td>123600.0</td>\n",
       "      <td>-0.388809</td>\n",
       "      <td>309940.0</td>\n",
       "      <td>7</td>\n",
       "      <td>0</td>\n",
       "      <td>1</td>\n",
       "      <td>0.002817</td>\n",
       "    </tr>\n",
       "  </tbody>\n",
       "</table>\n",
       "<p>5 rows × 28 columns</p>\n",
       "</div>"
      ],
      "text/plain": [
       "             Neighborhood  Sector #  Population (2010)  Total # Units (2000)  \\\n",
       "54          New Homestead         8                990                   387   \n",
       "76    Squirrel Hill South        10              15110                  7069   \n",
       "17  Central Lawrenceville        13               4482                  2904   \n",
       "22        Crafton Heights         4               3814                  1819   \n",
       "1          Allegheny West         3                462                   390   \n",
       "\n",
       "    Total # Units (2010)  % Occupied Units (2010)  % Vacant Units (2010)  \\\n",
       "54                   429                 0.939394               0.060606   \n",
       "76                  7514                 0.945568               0.054432   \n",
       "17                  2670                 0.858801               0.141199   \n",
       "22                  1836                 0.885076               0.114924   \n",
       "1                    355                 0.749296               0.250704   \n",
       "\n",
       "    # Occupied Units (2010)  % Owner Occupied Units (2010)  \\\n",
       "54                      436                       0.903670   \n",
       "76                     7135                       0.456202   \n",
       "17                     2388                       0.491625   \n",
       "22                     1634                       0.627907   \n",
       "1                       203                       0.182266   \n",
       "\n",
       "    % Renter Occupied Units (2010)  ...  % Units Built before 1939  \\\n",
       "54                        0.096330  ...                   0.245413   \n",
       "76                        0.543798  ...                   0.493483   \n",
       "17                        0.508375  ...                   0.763509   \n",
       "22                        0.372093  ...                   0.407254   \n",
       "1                         0.817734  ...                   0.574468   \n",
       "\n",
       "    Median Home Value (2000)  Med. Val. ('00 in '10 Dollars)  \\\n",
       "54                   90900.0                   115106.722543   \n",
       "76                  134633.0                   170485.845723   \n",
       "17                   41950.0                    53121.309249   \n",
       "22                   64450.0                    81613.072254   \n",
       "1                   159700.0                   202228.202312   \n",
       "\n",
       "    Median Home  Value (2010)  % Change Real Value 2000-2010  \\\n",
       "54                   117400.0                       0.019923   \n",
       "76                   201400.0                       0.181330   \n",
       "17                    66850.0                       0.258440   \n",
       "22                    76650.0                      -0.060812   \n",
       "1                    123600.0                      -0.388809   \n",
       "\n",
       "    Median Sale Price (2010)  # Sales Counted (2010)  Foreclosures (2008)  \\\n",
       "54                  100000.0                      11                    3   \n",
       "76                  218250.0                     176                   12   \n",
       "17                   67500.0                     107                   11   \n",
       "22                   40000.0                      60                   29   \n",
       "1                   309940.0                       7                    0   \n",
       "\n",
       "    Foreclosures (2010)  % of all Housing Units Foreclosed (2010)  \n",
       "54                    3                                  0.006993  \n",
       "76                    2                                  0.000266  \n",
       "17                   11                                  0.004120  \n",
       "22                   18                                  0.009804  \n",
       "1                     1                                  0.002817  \n",
       "\n",
       "[5 rows x 28 columns]"
      ]
     },
     "execution_count": 3,
     "metadata": {},
     "output_type": "execute_result"
    }
   ],
   "source": [
    "houses_pandas.sample(5)"
   ]
  },
  {
   "cell_type": "markdown",
   "metadata": {},
   "source": [
    "**Dog Licensing Database:** The number of dog licenses in zipcodes of Pittsburgh cities."
   ]
  },
  {
   "cell_type": "code",
   "execution_count": 4,
   "metadata": {},
   "outputs": [
    {
     "data": {
      "text/html": [
       "<div>\n",
       "<style scoped>\n",
       "    .dataframe tbody tr th:only-of-type {\n",
       "        vertical-align: middle;\n",
       "    }\n",
       "\n",
       "    .dataframe tbody tr th {\n",
       "        vertical-align: top;\n",
       "    }\n",
       "\n",
       "    .dataframe thead th {\n",
       "        text-align: right;\n",
       "    }\n",
       "</style>\n",
       "<table border=\"1\" class=\"dataframe\">\n",
       "  <thead>\n",
       "    <tr style=\"text-align: right;\">\n",
       "      <th></th>\n",
       "      <th>LicenseType</th>\n",
       "      <th>Breed</th>\n",
       "      <th>Color</th>\n",
       "      <th>OwnerZip</th>\n",
       "      <th>ExpYear</th>\n",
       "      <th>ValidDate</th>\n",
       "    </tr>\n",
       "    <tr>\n",
       "      <th>DogName</th>\n",
       "      <th></th>\n",
       "      <th></th>\n",
       "      <th></th>\n",
       "      <th></th>\n",
       "      <th></th>\n",
       "      <th></th>\n",
       "    </tr>\n",
       "  </thead>\n",
       "  <tbody>\n",
       "    <tr>\n",
       "      <th>SIENNA</th>\n",
       "      <td>Dog Lifetime Spayed Female</td>\n",
       "      <td>POODLE MIX</td>\n",
       "      <td>BROWN</td>\n",
       "      <td>15220</td>\n",
       "      <td>2099</td>\n",
       "      <td>2015-12-10T09:24:19</td>\n",
       "    </tr>\n",
       "    <tr>\n",
       "      <th>LADY</th>\n",
       "      <td>Dog Lifetime Female</td>\n",
       "      <td>GER SHEPHERD</td>\n",
       "      <td>BLACK/TAN</td>\n",
       "      <td>15044</td>\n",
       "      <td>2099</td>\n",
       "      <td>2021-02-02T15:59:56</td>\n",
       "    </tr>\n",
       "    <tr>\n",
       "      <th>TAZ</th>\n",
       "      <td>Dog Lifetime Neutered Male</td>\n",
       "      <td>AM PIT BULL TERRIER</td>\n",
       "      <td>BRINDLE</td>\n",
       "      <td>15108</td>\n",
       "      <td>2099</td>\n",
       "      <td>2015-12-22T15:26:57</td>\n",
       "    </tr>\n",
       "    <tr>\n",
       "      <th>MORTY</th>\n",
       "      <td>Dog Lifetime Neutered Male</td>\n",
       "      <td>GOLDENDOODLE</td>\n",
       "      <td>APRICOT</td>\n",
       "      <td>15229</td>\n",
       "      <td>2099</td>\n",
       "      <td>2019-05-20T10:25:23</td>\n",
       "    </tr>\n",
       "    <tr>\n",
       "      <th>BECKHAM</th>\n",
       "      <td>Dog Lifetime Neutered Male</td>\n",
       "      <td>POODLE MIX</td>\n",
       "      <td>WHITE/BLACK</td>\n",
       "      <td>15237</td>\n",
       "      <td>2099</td>\n",
       "      <td>2021-04-29T15:50:07</td>\n",
       "    </tr>\n",
       "  </tbody>\n",
       "</table>\n",
       "</div>"
      ],
      "text/plain": [
       "                        LicenseType                Breed        Color  \\\n",
       "DogName                                                                 \n",
       "SIENNA   Dog Lifetime Spayed Female           POODLE MIX        BROWN   \n",
       "LADY            Dog Lifetime Female         GER SHEPHERD    BLACK/TAN   \n",
       "TAZ      Dog Lifetime Neutered Male  AM PIT BULL TERRIER      BRINDLE   \n",
       "MORTY    Dog Lifetime Neutered Male         GOLDENDOODLE      APRICOT   \n",
       "BECKHAM  Dog Lifetime Neutered Male           POODLE MIX  WHITE/BLACK   \n",
       "\n",
       "         OwnerZip  ExpYear            ValidDate  \n",
       "DogName                                          \n",
       "SIENNA      15220     2099  2015-12-10T09:24:19  \n",
       "LADY        15044     2099  2021-02-02T15:59:56  \n",
       "TAZ         15108     2099  2015-12-22T15:26:57  \n",
       "MORTY       15229     2099  2019-05-20T10:25:23  \n",
       "BECKHAM     15237     2099  2021-04-29T15:50:07  "
      ]
     },
     "execution_count": 4,
     "metadata": {},
     "output_type": "execute_result"
    }
   ],
   "source": [
    "dl.sample(5)"
   ]
  },
  {
   "cell_type": "markdown",
   "metadata": {},
   "source": [
    "**Supermarkets Database:** The number of supermarkets and convenience stores in Allegenheny County."
   ]
  },
  {
   "cell_type": "code",
   "execution_count": 5,
   "metadata": {},
   "outputs": [
    {
     "data": {
      "text/html": [
       "<div>\n",
       "<style scoped>\n",
       "    .dataframe tbody tr th:only-of-type {\n",
       "        vertical-align: middle;\n",
       "    }\n",
       "\n",
       "    .dataframe tbody tr th {\n",
       "        vertical-align: top;\n",
       "    }\n",
       "\n",
       "    .dataframe thead th {\n",
       "        text-align: right;\n",
       "    }\n",
       "</style>\n",
       "<table border=\"1\" class=\"dataframe\">\n",
       "  <thead>\n",
       "    <tr style=\"text-align: right;\">\n",
       "      <th></th>\n",
       "      <th>Client ID</th>\n",
       "      <th>Name</th>\n",
       "      <th>Legal Name</th>\n",
       "      <th>Start Date</th>\n",
       "      <th>Street #</th>\n",
       "      <th>Street Name</th>\n",
       "      <th>State</th>\n",
       "      <th>Zip</th>\n",
       "      <th>Lat</th>\n",
       "      <th>Lon</th>\n",
       "      <th>Accuracy</th>\n",
       "      <th>Category</th>\n",
       "    </tr>\n",
       "  </thead>\n",
       "  <tbody>\n",
       "    <tr>\n",
       "      <th>76</th>\n",
       "      <td>201603170005</td>\n",
       "      <td>Speedway #2917</td>\n",
       "      <td>Speedway LLC</td>\n",
       "      <td>3/10/2016</td>\n",
       "      <td>4363</td>\n",
       "      <td>Broadway Blvd</td>\n",
       "      <td>PA</td>\n",
       "      <td>15146.0</td>\n",
       "      <td>40.397285</td>\n",
       "      <td>-79.768965</td>\n",
       "      <td>8.0</td>\n",
       "      <td>Convenience Store</td>\n",
       "    </tr>\n",
       "    <tr>\n",
       "      <th>261</th>\n",
       "      <td>54565</td>\n",
       "      <td>Friend's Shell Food Shop</td>\n",
       "      <td>NaN</td>\n",
       "      <td>11/21/1995</td>\n",
       "      <td>5735</td>\n",
       "      <td>Baum Blvd</td>\n",
       "      <td>PA</td>\n",
       "      <td>15206.0</td>\n",
       "      <td>40.458897</td>\n",
       "      <td>-79.932637</td>\n",
       "      <td>9.0</td>\n",
       "      <td>Convenience Store</td>\n",
       "    </tr>\n",
       "    <tr>\n",
       "      <th>581</th>\n",
       "      <td>201102220003</td>\n",
       "      <td>Shop 'n Save</td>\n",
       "      <td>J &amp; D Supermarkets LLC</td>\n",
       "      <td>2/22/2006</td>\n",
       "      <td>799</td>\n",
       "      <td>Castle Shannon Bo</td>\n",
       "      <td>PA</td>\n",
       "      <td>15234.0</td>\n",
       "      <td>40.367580</td>\n",
       "      <td>-80.017161</td>\n",
       "      <td>3.0</td>\n",
       "      <td>Supermarket</td>\n",
       "    </tr>\n",
       "    <tr>\n",
       "      <th>585</th>\n",
       "      <td>44108</td>\n",
       "      <td>Shop 'n Save / Glenshaw #212403</td>\n",
       "      <td>MJS Foods LLC</td>\n",
       "      <td>11/29/2006</td>\n",
       "      <td>917</td>\n",
       "      <td>Butler St</td>\n",
       "      <td>PA</td>\n",
       "      <td>15116.0</td>\n",
       "      <td>40.513310</td>\n",
       "      <td>-79.950785</td>\n",
       "      <td>5.0</td>\n",
       "      <td>Supermarket</td>\n",
       "    </tr>\n",
       "    <tr>\n",
       "      <th>650</th>\n",
       "      <td>39139</td>\n",
       "      <td>The Fresh Market</td>\n",
       "      <td>The Fresh Market Inc.</td>\n",
       "      <td>7/3/2013</td>\n",
       "      <td>1551</td>\n",
       "      <td>Washington Rd</td>\n",
       "      <td>PA</td>\n",
       "      <td>15228.0</td>\n",
       "      <td>40.355489</td>\n",
       "      <td>-80.050351</td>\n",
       "      <td>8.0</td>\n",
       "      <td>Supermarket</td>\n",
       "    </tr>\n",
       "  </tbody>\n",
       "</table>\n",
       "</div>"
      ],
      "text/plain": [
       "        Client ID                             Name              Legal Name  \\\n",
       "76   201603170005                   Speedway #2917            Speedway LLC   \n",
       "261         54565         Friend's Shell Food Shop                     NaN   \n",
       "581  201102220003                     Shop 'n Save  J & D Supermarkets LLC   \n",
       "585         44108  Shop 'n Save / Glenshaw #212403           MJS Foods LLC   \n",
       "650         39139                 The Fresh Market   The Fresh Market Inc.   \n",
       "\n",
       "     Start Date Street #        Street Name State      Zip        Lat  \\\n",
       "76    3/10/2016     4363      Broadway Blvd    PA  15146.0  40.397285   \n",
       "261  11/21/1995     5735          Baum Blvd    PA  15206.0  40.458897   \n",
       "581   2/22/2006      799  Castle Shannon Bo    PA  15234.0  40.367580   \n",
       "585  11/29/2006      917          Butler St    PA  15116.0  40.513310   \n",
       "650    7/3/2013     1551      Washington Rd    PA  15228.0  40.355489   \n",
       "\n",
       "           Lon  Accuracy           Category  \n",
       "76  -79.768965       8.0  Convenience Store  \n",
       "261 -79.932637       9.0  Convenience Store  \n",
       "581 -80.017161       3.0        Supermarket  \n",
       "585 -79.950785       5.0        Supermarket  \n",
       "650 -80.050351       8.0        Supermarket  "
      ]
     },
     "execution_count": 5,
     "metadata": {},
     "output_type": "execute_result"
    }
   ],
   "source": [
    "stores_data.sample(5)"
   ]
  },
  {
   "cell_type": "markdown",
   "metadata": {},
   "source": [
    "# The Best Neighborhood"
   ]
  },
  {
   "cell_type": "markdown",
   "metadata": {},
   "source": [
    "These are our rankings individually for each of our datasets."
   ]
  },
  {
   "cell_type": "code",
   "execution_count": 7,
   "metadata": {},
   "outputs": [
    {
     "name": "stdout",
     "output_type": "stream",
     "text": [
      "Neighborhood\n",
      "Lincoln Place            1.000000\n",
      "Central Northside        0.959647\n",
      "Homewood North           0.955233\n",
      "Westwood                 0.926860\n",
      "Knoxville                0.916141\n",
      "East Allegheny           0.854351\n",
      "Troy Hill                0.841740\n",
      "Lower Lawrenceville      0.815889\n",
      "Duquesne Heights         0.811475\n",
      "Terrace Village          0.810845\n",
      "Crawford-Roberts         0.775536\n",
      "East Hills               0.759773\n",
      "Spring Hill-City View    0.750946\n",
      "Upper Lawrenceville      0.745902\n",
      "South Oakland            0.715006\n",
      "Homewood South           0.685372\n",
      "Friendship               0.638083\n",
      "Elliott                  0.622320\n",
      "Middle Hill              0.609710\n",
      "Allentown                0.600883\n",
      "Upper Hill               0.582598\n",
      "Point Breeze North       0.573140\n",
      "Beltzhoover              0.535309\n",
      "Manchester               0.517654\n",
      "Arlington                0.475410\n",
      "Polish Hill              0.450820\n",
      "Bedford Dwellings        0.438209\n",
      "Fineview                 0.423707\n",
      "Name: # Occupied Units (2010), dtype: float64\n"
     ]
    }
   ],
   "source": [
    "occupied_units = houses_pandas.groupby(\"Neighborhood\").sum()['# Occupied Units (2010)']\n",
    "ordered_units = occupied_units.sort_values(ascending=True)\n",
    "filter_data_least = ordered_units.iloc[31:]\n",
    "reordered_units = filter_data_least.sort_values(ascending=False)\n",
    "filter_data_most = reordered_units.iloc[31:]\n",
    "rank = filter_data_most / 1586\n",
    "print(rank)"
   ]
  },
  {
   "cell_type": "code",
   "execution_count": 8,
   "metadata": {},
   "outputs": [
    {
     "data": {
      "text/plain": [
       "<matplotlib.axes._subplots.AxesSubplot at 0x7fd693c54760>"
      ]
     },
     "execution_count": 8,
     "metadata": {},
     "output_type": "execute_result"
    },
    {
     "data": {
      "image/png": "[encoded data removed]",
      "text/plain": [
       "<Figure size 1800x1800 with 1 Axes>"
      ]
     },
     "metadata": {
      "needs_background": "light"
     },
     "output_type": "display_data"
    }
   ],
   "source": [
    "plt.style.use('seaborn-pastel')\n",
    "rank.plot(kind='bar', x='Neighborhood', \n",
    "                    y='# Occupied Units (2010)', \n",
    "                    title='Most Num of Occupied Units in Pittsburgh Neighborhoods (2010)',\n",
    "                    figsize=(25,25))"
   ]
  },
  {
   "cell_type": "code",
   "execution_count": 11,
   "metadata": {},
   "outputs": [
    {
     "data": {
      "text/plain": [
       "15235    1.000000\n",
       "15227    0.908354\n",
       "15221    0.405515\n",
       "15205    0.351987\n",
       "15234    0.330089\n",
       "15216    0.273317\n",
       "15215    0.263585\n",
       "15218    0.223844\n",
       "15220    0.190592\n",
       "15214    0.126521\n",
       "15212    0.064071\n",
       "15210    0.056772\n",
       "15226    0.031630\n",
       "15207    0.009732\n",
       "15219    0.009732\n",
       "15217    0.007299\n",
       "15208    0.005677\n",
       "15206    0.004866\n",
       "15201    0.004055\n",
       "15233    0.004055\n",
       "15232    0.004055\n",
       "15203    0.003244\n",
       "15222    0.002433\n",
       "15224    0.001622\n",
       "15213    0.001622\n",
       "15211    0.001622\n",
       "15204    0.000811\n",
       "15230    0.000811\n",
       "Name: OwnerZip, dtype: float64"
      ]
     },
     "execution_count": 11,
     "metadata": {},
     "output_type": "execute_result"
    }
   ],
   "source": [
    "city_zips = [15201, 15203, 15204, 15205, 15206, 15207, 15208, 15210, 15211,\n",
    "            15212, 15213, 15214, 15215, 15216, 15217, 15218, 15219, 15220,\n",
    "            15221, 15222, 15224, 15226, 15227, 15230, 15232, 15233, 15234,\n",
    "            15235, 15240, 15260, 15282]\n",
    "def filter_zips(grouped):\n",
    "    for i in city_zips:\n",
    "        if grouped.iloc[0,3] == i:\n",
    "            return True\n",
    "    return False\n",
    "    \n",
    "pitt_zips = dl.groupby(\"OwnerZip\").filter(filter_zips)\n",
    "rankings = pitt_zips['OwnerZip'].value_counts() / 1233\n",
    "rankings"
   ]
  },
  {
   "cell_type": "code",
   "execution_count": 12,
   "metadata": {},
   "outputs": [
    {
     "data": {
      "text/plain": [
       "<matplotlib.axes._subplots.AxesSubplot at 0x7fd692a76ee0>"
      ]
     },
     "execution_count": 12,
     "metadata": {},
     "output_type": "execute_result"
    },
    {
     "data": {
      "image/png": "[encoded data removed]",
      "text/plain": [
       "<Figure size 432x288 with 1 Axes>"
      ]
     },
     "metadata": {
      "needs_background": "light"
     },
     "output_type": "display_data"
    }
   ],
   "source": [
    "plt.style.use('seaborn-dark-palette')\n",
    "rankings.plot.bar()"
   ]
  },
  {
   "cell_type": "code",
   "execution_count": 19,
   "metadata": {},
   "outputs": [
    {
     "name": "stdout",
     "output_type": "stream",
     "text": [
      "15205.0    1.000000\n",
      "15235.0    0.833333\n",
      "15227.0    0.833333\n",
      "15210.0    0.666667\n",
      "15217.0    0.666667\n",
      "15222.0    0.666667\n",
      "15206.0    0.666667\n",
      "15212.0    0.500000\n",
      "15221.0    0.500000\n",
      "15224.0    0.500000\n",
      "15213.0    0.500000\n",
      "15220.0    0.333333\n",
      "15226.0    0.333333\n",
      "15203.0    0.333333\n",
      "15216.0    0.333333\n",
      "15219.0    0.166667\n",
      "15211.0    0.166667\n",
      "15234.0    0.166667\n",
      "15201.0    0.166667\n",
      "15218.0    0.166667\n",
      "15232.0    0.166667\n",
      "15208.0    0.166667\n",
      "Name: Zip, dtype: float64\n"
     ]
    }
   ],
   "source": [
    "query_mask = stores_data['Category'] == \"Supermarket\"\n",
    "supermarkets_only = stores_data[query_mask]\n",
    "pitt_zip = [15201.0, 15203.0, 15204.0, 15205.0, 15206.0, 15207.0, 15208.0, 15210.0, 15211.0, 15212.0, 15213.0, 15214.0, 15215.0, 15216.0, \n",
    "            15217.0, 15218.0, 15219.0, 15220.0, 15221.0, 15222.0, 15224.0, 15226.0, 15227.0, 15230.0, 15232.0, 15233.0, 15234.0, 15235.0]\n",
    "def filter_out_zips(grouped):\n",
    "    for x in pitt_zip:\n",
    "        if grouped.iloc[0, 7] == x:\n",
    "            return True\n",
    "    return False\n",
    "\n",
    "only_pitt_zip = supermarkets_only.groupby(\"Zip\").filter(filter_out_zips)\n",
    "rankings2 = only_pitt_zip[\"Zip\"].value_counts()/6\n",
    "print(rankings2)"
   ]
  },
  {
   "cell_type": "code",
   "execution_count": 23,
   "metadata": {},
   "outputs": [
    {
     "data": {
      "text/plain": [
       "<matplotlib.axes._subplots.AxesSubplot at 0x7fd693482790>"
      ]
     },
     "execution_count": 23,
     "metadata": {},
     "output_type": "execute_result"
    },
    {
     "data": {
      "image/png": "[encoded data removed]",
      "text/plain": [
       "<Figure size 640x480 with 1 Axes>"
      ]
     },
     "metadata": {},
     "output_type": "display_data"
    }
   ],
   "source": [
    "plt.style.use('classic')\n",
    "rankings2.plot.bar()"
   ]
  },
  {
   "cell_type": "markdown",
   "metadata": {},
   "source": [
    "We added all the rankings for our neighborhoods. We found these to be our top 5.\n",
    "1. Westwood(15205) 0.351987 + 1 + 0.92686 = 2.278847\n",
    "2. Knoxville(15210) 0.916141 + 0.056772 + 0.666667 = 1.63958\n",
    "3. Central Northside(15212) 0.959647 + 0.064071 + 0.500000 - 1.523718\n",
    "4. Beltzhoover(15210) 0.535309 + 0.056772 + 0.666667 = 1.258748\n",
    "5. Arlington(15210) 0.475410 + 0.056772 + 0.666667 = 1.198849"
   ]
  },
  {
   "cell_type": "markdown",
   "metadata": {},
   "source": [
    "We ended up with these as our best neighborhoods by adding up our individual rankings together.\n",
    "The *Best neighborhood* ended up being **Westwood**."
   ]
  },
  {
   "cell_type": "markdown",
   "metadata": {},
   "source": [
    "![GIF](https://media.giphy.com/media/s2qXK8wAvkHTO/giphy.gif)"
   ]
  },
  {
   "cell_type": "markdown",
   "metadata": {},
   "source": [
    "# Conclusion"
   ]
  },
  {
   "cell_type": "markdown",
   "metadata": {},
   "source": [
    "**Nhu:** \"As shown, my personal favorite neighborhood is **LINCOLN PLACE**. This is in according to the most number of occupied units in 2010 derived to find which is the most dog friendly neighborhood. \n",
    "\n",
    "My favorite neighborhood differs from the group's which is **WESTWOOD**. My data places Westwood as fourth, which is still high on my list, but not enough to disagree with the group's favorite as a whole.\""
   ]
  },
  {
   "cell_type": "markdown",
   "metadata": {},
   "source": [
    "**Alex:** \"According to my data, the favorite zipcode of my data is **15235** which includes the Borough of Churchill, Penn Hills and Wilkins Townships, and a part of the city.  This has a significant amount of dog licenses and therefore is considered the most dog friendly in the sense of the ability to license dogs.\n",
    "\n",
    "The best neighborhood in Pittsburgh based on group data is **Westwood**.  The zip code for Westwood is **15205**, which makes it my fourth highest ranked.  This ranks fairly high on my list but still disagrees with the personal favorite according to my dataset.\""
   ]
  },
  {
   "cell_type": "markdown",
   "metadata": {},
   "source": [
    "**Daniel:** \"From my data, the best zip code is **15205** which contains the neighborhoods Fairywood, Crafton Heights, Westwood, Oakwood. This is based off of **15205** having the most supermarkets which is 6. With the combined metrics of the group we found **Westwood** to be the best neighborhood. The zipcode **15205** contains our group's best neighborhood of **Westwood** which is also number one in my personal ranking.\""
   ]
  },
  {
   "cell_type": "markdown",
   "metadata": {},
   "source": [
    "![alt taxt](SmartSelect_20211122-132013_Samsung_Internet.jpg \"Muffin\")"
   ]
  },
  {
   "cell_type": "code",
   "execution_count": null,
   "metadata": {},
   "outputs": [],
   "source": []
  }
 ],
 "metadata": {
  "kernelspec": {
   "display_name": "Python 3",
   "language": "python",
   "name": "python3"
  },
  "language_info": {
   "codemirror_mode": {
    "name": "ipython",
    "version": 3
   },
   "file_extension": ".py",
   "mimetype": "text/x-python",
   "name": "python",
   "nbconvert_exporter": "python",
   "pygments_lexer": "ipython3",
   "version": "3.8.3"
  }
 },
 "nbformat": 4,
 "nbformat_minor": 4
}
