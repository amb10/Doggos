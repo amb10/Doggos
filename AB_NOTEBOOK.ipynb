{
 "cells": [
  {
   "cell_type": "markdown",
   "metadata": {},
   "source": [
    "# **Alex's Journal**\n",
    "\n",
    "**Best Neighborhood in Pittsburgh**: *to be determined*\n",
    "\n",
    "<u>Metric</u>: Best place to own in dog in Pittsburgh\n",
    "\n",
    "<u>Databases</u>: *Licenses(mine)*, Supermarkets(Daniel), Housing(Nhu)"
   ]
  },
  {
   "cell_type": "markdown",
   "metadata": {},
   "source": [
    "The  Dog Licenses database is downloaded and stored as dl. The .head() method was to view the dataset and how the information appears with the column as owner zip codes in a random sample."
   ]
  },
  {
   "cell_type": "code",
   "execution_count": 2,
   "metadata": {},
   "outputs": [],
   "source": [
    "import pandas as pd\n",
    "import numpy as np\n",
    "%matplotlib inline\n",
    "import matplotlib.pyplot as plt\n",
    "\n",
    "dl = pd.read_csv(\"DogLicenses.csv\", index_col = \"DogName\")"
   ]
  },
  {
   "cell_type": "code",
   "execution_count": 11,
   "metadata": {},
   "outputs": [
    {
     "data": {
      "text/html": [
       "<div>\n",
       "<style scoped>\n",
       "    .dataframe tbody tr th:only-of-type {\n",
       "        vertical-align: middle;\n",
       "    }\n",
       "\n",
       "    .dataframe tbody tr th {\n",
       "        vertical-align: top;\n",
       "    }\n",
       "\n",
       "    .dataframe thead th {\n",
       "        text-align: right;\n",
       "    }\n",
       "</style>\n",
       "<table border=\"1\" class=\"dataframe\">\n",
       "  <thead>\n",
       "    <tr style=\"text-align: right;\">\n",
       "      <th></th>\n",
       "      <th>LicenseType</th>\n",
       "      <th>Breed</th>\n",
       "      <th>Color</th>\n",
       "      <th>OwnerZip</th>\n",
       "      <th>ExpYear</th>\n",
       "      <th>ValidDate</th>\n",
       "    </tr>\n",
       "    <tr>\n",
       "      <th>DogName</th>\n",
       "      <th></th>\n",
       "      <th></th>\n",
       "      <th></th>\n",
       "      <th></th>\n",
       "      <th></th>\n",
       "      <th></th>\n",
       "    </tr>\n",
       "  </thead>\n",
       "  <tbody>\n",
       "    <tr>\n",
       "      <th>SUMMER</th>\n",
       "      <td>Dog Lifetime Spayed Female</td>\n",
       "      <td>MIXED</td>\n",
       "      <td>WHITE</td>\n",
       "      <td>15044</td>\n",
       "      <td>2099</td>\n",
       "      <td>2014-10-16T14:07:39</td>\n",
       "    </tr>\n",
       "    <tr>\n",
       "      <th>FAWN</th>\n",
       "      <td>Dog Senior Lifetime Spayed Female</td>\n",
       "      <td>BLACK&amp;TAN COONHOUND</td>\n",
       "      <td>BLACK/BROWN</td>\n",
       "      <td>15084</td>\n",
       "      <td>2099</td>\n",
       "      <td>2017-02-08T15:35:38</td>\n",
       "    </tr>\n",
       "    <tr>\n",
       "      <th>TITAN</th>\n",
       "      <td>Dog Senior Lifetime Neutered Male</td>\n",
       "      <td>DOBERMAN PINSCHER</td>\n",
       "      <td>BLACK/TAN</td>\n",
       "      <td>15238</td>\n",
       "      <td>2099</td>\n",
       "      <td>2013-08-02T14:19:19</td>\n",
       "    </tr>\n",
       "    <tr>\n",
       "      <th>JAKE</th>\n",
       "      <td>Dog Senior Lifetime Neutered Male</td>\n",
       "      <td>GER SHORTHAIR POINT</td>\n",
       "      <td>SPOTTED</td>\n",
       "      <td>15090</td>\n",
       "      <td>2099</td>\n",
       "      <td>2019-01-22T15:12:07</td>\n",
       "    </tr>\n",
       "    <tr>\n",
       "      <th>FINN</th>\n",
       "      <td>Dog Lifetime Neutered Male</td>\n",
       "      <td>CAV KING CHAR SPANI</td>\n",
       "      <td>WHITE/BROWN</td>\n",
       "      <td>15090</td>\n",
       "      <td>2099</td>\n",
       "      <td>2015-08-11T09:34:08</td>\n",
       "    </tr>\n",
       "  </tbody>\n",
       "</table>\n",
       "</div>"
      ],
      "text/plain": [
       "                               LicenseType                Breed        Color  \\\n",
       "DogName                                                                        \n",
       "SUMMER          Dog Lifetime Spayed Female                MIXED        WHITE   \n",
       "FAWN     Dog Senior Lifetime Spayed Female  BLACK&TAN COONHOUND  BLACK/BROWN   \n",
       "TITAN    Dog Senior Lifetime Neutered Male    DOBERMAN PINSCHER    BLACK/TAN   \n",
       "JAKE     Dog Senior Lifetime Neutered Male  GER SHORTHAIR POINT      SPOTTED   \n",
       "FINN            Dog Lifetime Neutered Male  CAV KING CHAR SPANI  WHITE/BROWN   \n",
       "\n",
       "         OwnerZip  ExpYear            ValidDate  \n",
       "DogName                                          \n",
       "SUMMER      15044     2099  2014-10-16T14:07:39  \n",
       "FAWN        15084     2099  2017-02-08T15:35:38  \n",
       "TITAN       15238     2099  2013-08-02T14:19:19  \n",
       "JAKE        15090     2099  2019-01-22T15:12:07  \n",
       "FINN        15090     2099  2015-08-11T09:34:08  "
      ]
     },
     "execution_count": 11,
     "metadata": {},
     "output_type": "execute_result"
    }
   ],
   "source": [
    "dl.sample(5)"
   ]
  },
  {
   "cell_type": "markdown",
   "metadata": {},
   "source": [
    "The describe method was used to see an overview of all of the data in the database."
   ]
  },
  {
   "cell_type": "code",
   "execution_count": 12,
   "metadata": {},
   "outputs": [
    {
     "data": {
      "text/html": [
       "<div>\n",
       "<style scoped>\n",
       "    .dataframe tbody tr th:only-of-type {\n",
       "        vertical-align: middle;\n",
       "    }\n",
       "\n",
       "    .dataframe tbody tr th {\n",
       "        vertical-align: top;\n",
       "    }\n",
       "\n",
       "    .dataframe thead th {\n",
       "        text-align: right;\n",
       "    }\n",
       "</style>\n",
       "<table border=\"1\" class=\"dataframe\">\n",
       "  <thead>\n",
       "    <tr style=\"text-align: right;\">\n",
       "      <th></th>\n",
       "      <th>OwnerZip</th>\n",
       "      <th>ExpYear</th>\n",
       "    </tr>\n",
       "  </thead>\n",
       "  <tbody>\n",
       "    <tr>\n",
       "      <th>count</th>\n",
       "      <td>36633.000000</td>\n",
       "      <td>36633.0</td>\n",
       "    </tr>\n",
       "    <tr>\n",
       "      <th>mean</th>\n",
       "      <td>15155.909399</td>\n",
       "      <td>2099.0</td>\n",
       "    </tr>\n",
       "    <tr>\n",
       "      <th>std</th>\n",
       "      <td>285.835365</td>\n",
       "      <td>0.0</td>\n",
       "    </tr>\n",
       "    <tr>\n",
       "      <th>min</th>\n",
       "      <td>15003.000000</td>\n",
       "      <td>2099.0</td>\n",
       "    </tr>\n",
       "    <tr>\n",
       "      <th>25%</th>\n",
       "      <td>15101.000000</td>\n",
       "      <td>2099.0</td>\n",
       "    </tr>\n",
       "    <tr>\n",
       "      <th>50%</th>\n",
       "      <td>15137.000000</td>\n",
       "      <td>2099.0</td>\n",
       "    </tr>\n",
       "    <tr>\n",
       "      <th>75%</th>\n",
       "      <td>15228.000000</td>\n",
       "      <td>2099.0</td>\n",
       "    </tr>\n",
       "    <tr>\n",
       "      <th>max</th>\n",
       "      <td>47909.000000</td>\n",
       "      <td>2099.0</td>\n",
       "    </tr>\n",
       "  </tbody>\n",
       "</table>\n",
       "</div>"
      ],
      "text/plain": [
       "           OwnerZip  ExpYear\n",
       "count  36633.000000  36633.0\n",
       "mean   15155.909399   2099.0\n",
       "std      285.835365      0.0\n",
       "min    15003.000000   2099.0\n",
       "25%    15101.000000   2099.0\n",
       "50%    15137.000000   2099.0\n",
       "75%    15228.000000   2099.0\n",
       "max    47909.000000   2099.0"
      ]
     },
     "execution_count": 12,
     "metadata": {},
     "output_type": "execute_result"
    }
   ],
   "source": [
    "dl.describe()"
   ]
  },
  {
   "cell_type": "markdown",
   "metadata": {},
   "source": [
    "Creates a list of city zip codes and names as city_zip with the 28 zip codes."
   ]
  },
  {
   "cell_type": "code",
   "execution_count": 3,
   "metadata": {},
   "outputs": [
    {
     "data": {
      "text/plain": [
       "31"
      ]
     },
     "execution_count": 3,
     "metadata": {},
     "output_type": "execute_result"
    }
   ],
   "source": [
    "city_zips = [15201, 15203, 15204, 15205, 15206, 15207, 15208, 15210, 15211,\n",
    "            15212, 15213, 15214, 15215, 15216, 15217, 15218, 15219, 15220,\n",
    "            15221, 15222, 15224, 15226, 15227, 15230, 15232, 15233, 15234,\n",
    "            15235, 15240, 15260, 15282]\n",
    "len(city_zips)"
   ]
  },
  {
   "cell_type": "markdown",
   "metadata": {},
   "source": [
    "Attempt at trying to filter out zip codes using 28 separate query masks and then attempting to combine them in the next code cell."
   ]
  },
  {
   "cell_type": "code",
   "execution_count": 23,
   "metadata": {},
   "outputs": [
    {
     "data": {
      "text/plain": [
       "DogName\n",
       "SASHA              False\n",
       "JAKE               False\n",
       "SHILOH             False\n",
       "BLONDIE            False\n",
       "SASHA              False\n",
       "CODY               False\n",
       "CHARLIE            False\n",
       "COLT               False\n",
       "CANDY              False\n",
       "KEENA               True\n",
       "AMOS               False\n",
       "BEAR               False\n",
       "MADISON            False\n",
       "TENNESEE TUXEDO    False\n",
       "HOLLY              False\n",
       "Name: OwnerZip, dtype: bool"
      ]
     },
     "execution_count": 23,
     "metadata": {},
     "output_type": "execute_result"
    }
   ],
   "source": [
    "query_mask201 = dl['OwnerZip'] == 15201\n",
    "query_mask203 = dl['OwnerZip'] == 15203\n",
    "query_mask204 = dl['OwnerZip'] == 15204\n",
    "query_mask205 = dl['OwnerZip'] == 15205\n",
    "query_mask206 = dl['OwnerZip'] == 15206\n",
    "query_mask207 = dl['OwnerZip'] == 15207\n",
    "query_mask208 = dl['OwnerZip'] == 15208\n",
    "query_mask210 = dl['OwnerZip'] == 15210\n",
    "query_mask211 = dl['OwnerZip'] == 15211\n",
    "query_mask212 = dl['OwnerZip'] == 15212\n",
    "query_mask213 = dl['OwnerZip'] == 15213\n",
    "query_mask214 = dl['OwnerZip'] == 15214\n",
    "query_mask215 = dl['OwnerZip'] == 15215\n",
    "query_mask216 = dl['OwnerZip'] == 15216\n",
    "query_mask217 = dl['OwnerZip'] == 15217\n",
    "query_mask218 = dl['OwnerZip'] == 15218\n",
    "query_mask219 = dl['OwnerZip'] == 15219\n",
    "query_mask220 = dl['OwnerZip'] == 15220\n",
    "query_mask221 = dl['OwnerZip'] == 15221\n",
    "query_mask222 = dl['OwnerZip'] == 15222\n",
    "query_mask224 = dl['OwnerZip'] == 15224\n",
    "query_mask226 = dl['OwnerZip'] == 15226\n",
    "query_mask227 = dl['OwnerZip'] == 15227\n",
    "query_mask230 = dl['OwnerZip'] == 15230\n",
    "query_mask233 = dl['OwnerZip'] == 15233\n",
    "query_mask234 = dl['OwnerZip'] == 15234 \n",
    "query_mask235 = dl['OwnerZip'] == 15235\n",
    "\n",
    "query_mask235.head(15)"
   ]
  },
  {
   "cell_type": "markdown",
   "metadata": {},
   "source": [
    "This piece was meant to combine the query masks with the combine method accepting list that will result in all query masks being contained within it, the query mask being added currently, and the index of the combined list that currently can be added to.\n",
    "Code cell results in \"DeprecationWarning: In future, it will be an error for 'np.bool_' scalars to be interpreted as an index\n",
    "  ulist.insert(query_mask[i], index)\"\n",
    "  \n",
    "The code itself takes a longer time to run and will eventually cause an error so method was scrapped for more effective one."
   ]
  },
  {
   "cell_type": "code",
   "execution_count": 4,
   "metadata": {},
   "outputs": [
    {
     "ename": "NameError",
     "evalue": "name 'query_mask201' is not defined",
     "output_type": "error",
     "traceback": [
      "\u001b[0;31m---------------------------------------------------------------------------\u001b[0m",
      "\u001b[0;31mNameError\u001b[0m                                 Traceback (most recent call last)",
      "\u001b[0;32m<ipython-input-4-9b679988ced0>\u001b[0m in \u001b[0;36m<module>\u001b[0;34m\u001b[0m\n\u001b[1;32m      8\u001b[0m \u001b[0mindex\u001b[0m \u001b[0;34m=\u001b[0m \u001b[0;36m0\u001b[0m\u001b[0;34m\u001b[0m\u001b[0;34m\u001b[0m\u001b[0m\n\u001b[1;32m      9\u001b[0m \u001b[0mcity_dogs\u001b[0m \u001b[0;34m=\u001b[0m \u001b[0;34m[\u001b[0m\u001b[0;34m]\u001b[0m\u001b[0;34m\u001b[0m\u001b[0;34m\u001b[0m\u001b[0m\n\u001b[0;32m---> 10\u001b[0;31m \u001b[0mindex\u001b[0m \u001b[0;34m=\u001b[0m \u001b[0mcombine\u001b[0m\u001b[0;34m(\u001b[0m\u001b[0mcity_dogs\u001b[0m\u001b[0;34m,\u001b[0m \u001b[0mquery_mask201\u001b[0m\u001b[0;34m,\u001b[0m \u001b[0mindex\u001b[0m\u001b[0;34m)\u001b[0m\u001b[0;34m\u001b[0m\u001b[0;34m\u001b[0m\u001b[0m\n\u001b[0m",
      "\u001b[0;31mNameError\u001b[0m: name 'query_mask201' is not defined"
     ]
    }
   ],
   "source": [
    "def combine(ulist, query_mask, index):\n",
    "    for i in query_mask:\n",
    "        ulist.insert(query_mask[i], index)\n",
    "        index += 1\n",
    "        \n",
    "    return index\n",
    "\n",
    "index = 0\n",
    "city_dogs = []\n",
    "index = combine(city_dogs, query_mask201, index)"
   ]
  },
  {
   "cell_type": "markdown",
   "metadata": {},
   "source": [
    "When filtered by owner zipcode, the data is presented like this."
   ]
  },
  {
   "cell_type": "code",
   "execution_count": 4,
   "metadata": {},
   "outputs": [
    {
     "data": {
      "text/html": [
       "<div>\n",
       "<style scoped>\n",
       "    .dataframe tbody tr th:only-of-type {\n",
       "        vertical-align: middle;\n",
       "    }\n",
       "\n",
       "    .dataframe tbody tr th {\n",
       "        vertical-align: top;\n",
       "    }\n",
       "\n",
       "    .dataframe thead th {\n",
       "        text-align: right;\n",
       "    }\n",
       "</style>\n",
       "<table border=\"1\" class=\"dataframe\">\n",
       "  <thead>\n",
       "    <tr style=\"text-align: right;\">\n",
       "      <th></th>\n",
       "      <th>LicenseType</th>\n",
       "      <th>Breed</th>\n",
       "      <th>Color</th>\n",
       "      <th>ExpYear</th>\n",
       "      <th>ValidDate</th>\n",
       "    </tr>\n",
       "    <tr>\n",
       "      <th>OwnerZip</th>\n",
       "      <th></th>\n",
       "      <th></th>\n",
       "      <th></th>\n",
       "      <th></th>\n",
       "      <th></th>\n",
       "    </tr>\n",
       "  </thead>\n",
       "  <tbody>\n",
       "    <tr>\n",
       "      <th>15003</th>\n",
       "      <td>31</td>\n",
       "      <td>31</td>\n",
       "      <td>31</td>\n",
       "      <td>31</td>\n",
       "      <td>31</td>\n",
       "    </tr>\n",
       "    <tr>\n",
       "      <th>15005</th>\n",
       "      <td>48</td>\n",
       "      <td>48</td>\n",
       "      <td>48</td>\n",
       "      <td>48</td>\n",
       "      <td>48</td>\n",
       "    </tr>\n",
       "    <tr>\n",
       "      <th>15006</th>\n",
       "      <td>7</td>\n",
       "      <td>7</td>\n",
       "      <td>7</td>\n",
       "      <td>7</td>\n",
       "      <td>7</td>\n",
       "    </tr>\n",
       "    <tr>\n",
       "      <th>15007</th>\n",
       "      <td>9</td>\n",
       "      <td>9</td>\n",
       "      <td>9</td>\n",
       "      <td>9</td>\n",
       "      <td>9</td>\n",
       "    </tr>\n",
       "    <tr>\n",
       "      <th>15012</th>\n",
       "      <td>3</td>\n",
       "      <td>3</td>\n",
       "      <td>3</td>\n",
       "      <td>3</td>\n",
       "      <td>3</td>\n",
       "    </tr>\n",
       "    <tr>\n",
       "      <th>...</th>\n",
       "      <td>...</td>\n",
       "      <td>...</td>\n",
       "      <td>...</td>\n",
       "      <td>...</td>\n",
       "      <td>...</td>\n",
       "    </tr>\n",
       "    <tr>\n",
       "      <th>16342</th>\n",
       "      <td>1</td>\n",
       "      <td>1</td>\n",
       "      <td>1</td>\n",
       "      <td>1</td>\n",
       "      <td>1</td>\n",
       "    </tr>\n",
       "    <tr>\n",
       "      <th>32081</th>\n",
       "      <td>1</td>\n",
       "      <td>1</td>\n",
       "      <td>1</td>\n",
       "      <td>1</td>\n",
       "      <td>1</td>\n",
       "    </tr>\n",
       "    <tr>\n",
       "      <th>33426</th>\n",
       "      <td>1</td>\n",
       "      <td>1</td>\n",
       "      <td>1</td>\n",
       "      <td>1</td>\n",
       "      <td>1</td>\n",
       "    </tr>\n",
       "    <tr>\n",
       "      <th>46845</th>\n",
       "      <td>1</td>\n",
       "      <td>1</td>\n",
       "      <td>1</td>\n",
       "      <td>1</td>\n",
       "      <td>1</td>\n",
       "    </tr>\n",
       "    <tr>\n",
       "      <th>47909</th>\n",
       "      <td>1</td>\n",
       "      <td>1</td>\n",
       "      <td>1</td>\n",
       "      <td>1</td>\n",
       "      <td>1</td>\n",
       "    </tr>\n",
       "  </tbody>\n",
       "</table>\n",
       "<p>129 rows × 5 columns</p>\n",
       "</div>"
      ],
      "text/plain": [
       "          LicenseType  Breed  Color  ExpYear  ValidDate\n",
       "OwnerZip                                               \n",
       "15003              31     31     31       31         31\n",
       "15005              48     48     48       48         48\n",
       "15006               7      7      7        7          7\n",
       "15007               9      9      9        9          9\n",
       "15012               3      3      3        3          3\n",
       "...               ...    ...    ...      ...        ...\n",
       "16342               1      1      1        1          1\n",
       "32081               1      1      1        1          1\n",
       "33426               1      1      1        1          1\n",
       "46845               1      1      1        1          1\n",
       "47909               1      1      1        1          1\n",
       "\n",
       "[129 rows x 5 columns]"
      ]
     },
     "execution_count": 4,
     "metadata": {},
     "output_type": "execute_result"
    }
   ],
   "source": [
    "dl.groupby(\"OwnerZip\").count()"
   ]
  },
  {
   "cell_type": "markdown",
   "metadata": {},
   "source": [
    "More effective way of filtering out non-city zip codes using filter function and list with only zip codes.  The .sample() method shows a random sample of the new function with only city zip codes."
   ]
  },
  {
   "cell_type": "code",
   "execution_count": 5,
   "metadata": {},
   "outputs": [
    {
     "data": {
      "text/html": [
       "<div>\n",
       "<style scoped>\n",
       "    .dataframe tbody tr th:only-of-type {\n",
       "        vertical-align: middle;\n",
       "    }\n",
       "\n",
       "    .dataframe tbody tr th {\n",
       "        vertical-align: top;\n",
       "    }\n",
       "\n",
       "    .dataframe thead th {\n",
       "        text-align: right;\n",
       "    }\n",
       "</style>\n",
       "<table border=\"1\" class=\"dataframe\">\n",
       "  <thead>\n",
       "    <tr style=\"text-align: right;\">\n",
       "      <th></th>\n",
       "      <th>LicenseType</th>\n",
       "      <th>Breed</th>\n",
       "      <th>Color</th>\n",
       "      <th>OwnerZip</th>\n",
       "      <th>ExpYear</th>\n",
       "      <th>ValidDate</th>\n",
       "    </tr>\n",
       "    <tr>\n",
       "      <th>DogName</th>\n",
       "      <th></th>\n",
       "      <th></th>\n",
       "      <th></th>\n",
       "      <th></th>\n",
       "      <th></th>\n",
       "      <th></th>\n",
       "    </tr>\n",
       "  </thead>\n",
       "  <tbody>\n",
       "    <tr>\n",
       "      <th>DUKE 2</th>\n",
       "      <td>Dog Lifetime Neutered Male</td>\n",
       "      <td>GER SHEPHERD</td>\n",
       "      <td>BLACK/BROWN</td>\n",
       "      <td>15227</td>\n",
       "      <td>2099</td>\n",
       "      <td>2015-03-16T10:43:09</td>\n",
       "    </tr>\n",
       "    <tr>\n",
       "      <th>HACHIKO</th>\n",
       "      <td>Dog Lifetime Neutered Male</td>\n",
       "      <td>GOLDEN RETRIEVER</td>\n",
       "      <td>BROWN</td>\n",
       "      <td>15218</td>\n",
       "      <td>2099</td>\n",
       "      <td>2015-10-07T11:15:42</td>\n",
       "    </tr>\n",
       "    <tr>\n",
       "      <th>MACKENZIE</th>\n",
       "      <td>Dog Out of County Transfer - Lifetime</td>\n",
       "      <td>YORKSHIRE TERRIER</td>\n",
       "      <td>BLACK/BROWN</td>\n",
       "      <td>15235</td>\n",
       "      <td>2099</td>\n",
       "      <td>2020-11-09T12:22:59</td>\n",
       "    </tr>\n",
       "    <tr>\n",
       "      <th>PIPER</th>\n",
       "      <td>Dog Lifetime Spayed Female</td>\n",
       "      <td>BORD COLLIE</td>\n",
       "      <td>WHITE/BLACK</td>\n",
       "      <td>15215</td>\n",
       "      <td>2099</td>\n",
       "      <td>2011-05-18T09:24:09</td>\n",
       "    </tr>\n",
       "    <tr>\n",
       "      <th>BOWIE</th>\n",
       "      <td>Dog Lifetime Neutered Male</td>\n",
       "      <td>SFT COAT WHEAT TERR</td>\n",
       "      <td>BLONDE</td>\n",
       "      <td>15234</td>\n",
       "      <td>2099</td>\n",
       "      <td>2020-01-17T15:05:08</td>\n",
       "    </tr>\n",
       "    <tr>\n",
       "      <th>JOEY</th>\n",
       "      <td>Dog Lifetime Neutered Male</td>\n",
       "      <td>BORDER TERRIER</td>\n",
       "      <td>WHITE/BLACK</td>\n",
       "      <td>15221</td>\n",
       "      <td>2099</td>\n",
       "      <td>2013-02-20T13:06:10</td>\n",
       "    </tr>\n",
       "    <tr>\n",
       "      <th>BARKLY</th>\n",
       "      <td>Dog Lifetime Neutered Male</td>\n",
       "      <td>MIXED</td>\n",
       "      <td>SPOTTED</td>\n",
       "      <td>15220</td>\n",
       "      <td>2099</td>\n",
       "      <td>2007-10-15T09:35:16</td>\n",
       "    </tr>\n",
       "    <tr>\n",
       "      <th>SPIKE</th>\n",
       "      <td>Dog Lifetime Duplicate</td>\n",
       "      <td>BLACK&amp;TAN COONHOUND</td>\n",
       "      <td>BLACK/TAN</td>\n",
       "      <td>15235</td>\n",
       "      <td>2099</td>\n",
       "      <td>2020-02-20T14:44:47</td>\n",
       "    </tr>\n",
       "    <tr>\n",
       "      <th>BELLA MIA ROSA SPELL</th>\n",
       "      <td>Dog Lifetime Spayed Female</td>\n",
       "      <td>ROTTWEILER</td>\n",
       "      <td>BLACK/BROWN</td>\n",
       "      <td>15205</td>\n",
       "      <td>2099</td>\n",
       "      <td>2016-08-22T13:14:00</td>\n",
       "    </tr>\n",
       "    <tr>\n",
       "      <th>THOR</th>\n",
       "      <td>Dog Inter County Transfer - Lifetime</td>\n",
       "      <td>SIB HUSKY</td>\n",
       "      <td>WHITE</td>\n",
       "      <td>15227</td>\n",
       "      <td>2099</td>\n",
       "      <td>2012-03-07T16:05:07</td>\n",
       "    </tr>\n",
       "    <tr>\n",
       "      <th>PERCY</th>\n",
       "      <td>Dog Lifetime Neutered Male</td>\n",
       "      <td>SCHNAUZER MIN</td>\n",
       "      <td>WHITE/BROWN</td>\n",
       "      <td>15234</td>\n",
       "      <td>2099</td>\n",
       "      <td>2020-01-08T14:11:41</td>\n",
       "    </tr>\n",
       "    <tr>\n",
       "      <th>STELLA</th>\n",
       "      <td>Dog Lifetime Spayed Female</td>\n",
       "      <td>AM PIT BULL TERRIER</td>\n",
       "      <td>TAN</td>\n",
       "      <td>15235</td>\n",
       "      <td>2099</td>\n",
       "      <td>2015-03-10T11:01:26</td>\n",
       "    </tr>\n",
       "    <tr>\n",
       "      <th>GEMMA</th>\n",
       "      <td>Dog Lifetime Spayed Female</td>\n",
       "      <td>GER SHORTHAIR POINT</td>\n",
       "      <td>LIVER</td>\n",
       "      <td>15227</td>\n",
       "      <td>2099</td>\n",
       "      <td>2013-06-05T08:48:01</td>\n",
       "    </tr>\n",
       "    <tr>\n",
       "      <th>GUNNY</th>\n",
       "      <td>Dog Lifetime Neutered Male</td>\n",
       "      <td>CHIHUAHUA</td>\n",
       "      <td>BLACK/BROWN</td>\n",
       "      <td>15220</td>\n",
       "      <td>2099</td>\n",
       "      <td>2011-04-06T12:04:47</td>\n",
       "    </tr>\n",
       "    <tr>\n",
       "      <th>DORIE</th>\n",
       "      <td>Dog Senior Lifetime Spayed Female</td>\n",
       "      <td>DACHSHUND</td>\n",
       "      <td>BLACK/RED</td>\n",
       "      <td>15221</td>\n",
       "      <td>2099</td>\n",
       "      <td>2011-12-22T14:21:28</td>\n",
       "    </tr>\n",
       "    <tr>\n",
       "      <th>PEACHES BABE</th>\n",
       "      <td>Dog Senior Lifetime Spayed Female</td>\n",
       "      <td>SCHNAUZER MIN</td>\n",
       "      <td>SALT/PEPPER</td>\n",
       "      <td>15235</td>\n",
       "      <td>2099</td>\n",
       "      <td>2018-07-27T14:21:05</td>\n",
       "    </tr>\n",
       "    <tr>\n",
       "      <th>CANYON BOYLE</th>\n",
       "      <td>Dog Lifetime Neutered Male</td>\n",
       "      <td>GOLDEN RETRIEV MIX</td>\n",
       "      <td>BROWN</td>\n",
       "      <td>15214</td>\n",
       "      <td>2099</td>\n",
       "      <td>2015-07-16T14:31:08</td>\n",
       "    </tr>\n",
       "    <tr>\n",
       "      <th>BAILEY</th>\n",
       "      <td>Dog Lifetime Neutered Male</td>\n",
       "      <td>MIXED</td>\n",
       "      <td>BLACK</td>\n",
       "      <td>15215</td>\n",
       "      <td>2099</td>\n",
       "      <td>2006-02-28T00:00:00</td>\n",
       "    </tr>\n",
       "    <tr>\n",
       "      <th>JASPER</th>\n",
       "      <td>Dog Lifetime Neutered Male</td>\n",
       "      <td>AM PITT BULL MIX</td>\n",
       "      <td>WHITE/BLACK</td>\n",
       "      <td>15227</td>\n",
       "      <td>2099</td>\n",
       "      <td>2013-01-10T14:27:06</td>\n",
       "    </tr>\n",
       "    <tr>\n",
       "      <th>NORMA</th>\n",
       "      <td>Dog Lifetime Spayed Female</td>\n",
       "      <td>BEAGLE MIX</td>\n",
       "      <td>BLACK/TAN</td>\n",
       "      <td>15227</td>\n",
       "      <td>2099</td>\n",
       "      <td>2019-07-23T11:06:10</td>\n",
       "    </tr>\n",
       "  </tbody>\n",
       "</table>\n",
       "</div>"
      ],
      "text/plain": [
       "                                                LicenseType  \\\n",
       "DogName                                                       \n",
       "DUKE 2                           Dog Lifetime Neutered Male   \n",
       "HACHIKO                          Dog Lifetime Neutered Male   \n",
       "MACKENZIE             Dog Out of County Transfer - Lifetime   \n",
       "PIPER                            Dog Lifetime Spayed Female   \n",
       "BOWIE                            Dog Lifetime Neutered Male   \n",
       "JOEY                             Dog Lifetime Neutered Male   \n",
       "BARKLY                           Dog Lifetime Neutered Male   \n",
       "SPIKE                                Dog Lifetime Duplicate   \n",
       "BELLA MIA ROSA SPELL             Dog Lifetime Spayed Female   \n",
       "THOR                   Dog Inter County Transfer - Lifetime   \n",
       "PERCY                            Dog Lifetime Neutered Male   \n",
       "STELLA                           Dog Lifetime Spayed Female   \n",
       "GEMMA                            Dog Lifetime Spayed Female   \n",
       "GUNNY                            Dog Lifetime Neutered Male   \n",
       "DORIE                     Dog Senior Lifetime Spayed Female   \n",
       "PEACHES BABE              Dog Senior Lifetime Spayed Female   \n",
       "CANYON BOYLE                     Dog Lifetime Neutered Male   \n",
       "BAILEY                           Dog Lifetime Neutered Male   \n",
       "JASPER                           Dog Lifetime Neutered Male   \n",
       "NORMA                            Dog Lifetime Spayed Female   \n",
       "\n",
       "                                    Breed        Color  OwnerZip  ExpYear  \\\n",
       "DogName                                                                     \n",
       "DUKE 2                       GER SHEPHERD  BLACK/BROWN     15227     2099   \n",
       "HACHIKO                  GOLDEN RETRIEVER        BROWN     15218     2099   \n",
       "MACKENZIE               YORKSHIRE TERRIER  BLACK/BROWN     15235     2099   \n",
       "PIPER                         BORD COLLIE  WHITE/BLACK     15215     2099   \n",
       "BOWIE                 SFT COAT WHEAT TERR       BLONDE     15234     2099   \n",
       "JOEY                       BORDER TERRIER  WHITE/BLACK     15221     2099   \n",
       "BARKLY                              MIXED      SPOTTED     15220     2099   \n",
       "SPIKE                 BLACK&TAN COONHOUND    BLACK/TAN     15235     2099   \n",
       "BELLA MIA ROSA SPELL           ROTTWEILER  BLACK/BROWN     15205     2099   \n",
       "THOR                            SIB HUSKY        WHITE     15227     2099   \n",
       "PERCY                       SCHNAUZER MIN  WHITE/BROWN     15234     2099   \n",
       "STELLA                AM PIT BULL TERRIER          TAN     15235     2099   \n",
       "GEMMA                 GER SHORTHAIR POINT        LIVER     15227     2099   \n",
       "GUNNY                           CHIHUAHUA  BLACK/BROWN     15220     2099   \n",
       "DORIE                           DACHSHUND    BLACK/RED     15221     2099   \n",
       "PEACHES BABE                SCHNAUZER MIN  SALT/PEPPER     15235     2099   \n",
       "CANYON BOYLE           GOLDEN RETRIEV MIX        BROWN     15214     2099   \n",
       "BAILEY                              MIXED        BLACK     15215     2099   \n",
       "JASPER                   AM PITT BULL MIX  WHITE/BLACK     15227     2099   \n",
       "NORMA                          BEAGLE MIX    BLACK/TAN     15227     2099   \n",
       "\n",
       "                                ValidDate  \n",
       "DogName                                    \n",
       "DUKE 2                2015-03-16T10:43:09  \n",
       "HACHIKO               2015-10-07T11:15:42  \n",
       "MACKENZIE             2020-11-09T12:22:59  \n",
       "PIPER                 2011-05-18T09:24:09  \n",
       "BOWIE                 2020-01-17T15:05:08  \n",
       "JOEY                  2013-02-20T13:06:10  \n",
       "BARKLY                2007-10-15T09:35:16  \n",
       "SPIKE                 2020-02-20T14:44:47  \n",
       "BELLA MIA ROSA SPELL  2016-08-22T13:14:00  \n",
       "THOR                  2012-03-07T16:05:07  \n",
       "PERCY                 2020-01-08T14:11:41  \n",
       "STELLA                2015-03-10T11:01:26  \n",
       "GEMMA                 2013-06-05T08:48:01  \n",
       "GUNNY                 2011-04-06T12:04:47  \n",
       "DORIE                 2011-12-22T14:21:28  \n",
       "PEACHES BABE          2018-07-27T14:21:05  \n",
       "CANYON BOYLE          2015-07-16T14:31:08  \n",
       "BAILEY                2006-02-28T00:00:00  \n",
       "JASPER                2013-01-10T14:27:06  \n",
       "NORMA                 2019-07-23T11:06:10  "
      ]
     },
     "execution_count": 5,
     "metadata": {},
     "output_type": "execute_result"
    }
   ],
   "source": [
    "def filter_zips(grouped):\n",
    "    for i in city_zips:\n",
    "        if grouped.iloc[0,3] == i:\n",
    "            return True\n",
    "    return False\n",
    "    \n",
    "pitt_zips = dl.groupby(\"OwnerZip\").filter(filter_zips)\n",
    "pitt_zips.sample(20)"
   ]
  },
  {
   "cell_type": "markdown",
   "metadata": {},
   "source": [
    ".unique() is used to show all of the city zip codes that are present in the dataset.\n",
    ".value_counts displays how many licenses have been issued in each address with 15235 appearing to have the highest and 15230 and 152304 appearing to have the lowest recorded."
   ]
  },
  {
   "cell_type": "code",
   "execution_count": 25,
   "metadata": {},
   "outputs": [
    {
     "data": {
      "text/plain": [
       "array([15235, 15215, 15221, 15216, 15227, 15220, 15234, 15218, 15205,\n",
       "       15233, 15214, 15210, 15226, 15201, 15212, 15222, 15217, 15208,\n",
       "       15207, 15219, 15203, 15232, 15206, 15213, 15224, 15204, 15230,\n",
       "       15211])"
      ]
     },
     "execution_count": 25,
     "metadata": {},
     "output_type": "execute_result"
    }
   ],
   "source": [
    "pitt_zips[\"OwnerZip\"].unique()"
   ]
  },
  {
   "cell_type": "markdown",
   "metadata": {},
   "source": [
    "Histogram showing the zip codes in the city of Pittsburgh on the x-axis and the number of dog licenses presented on the y-axis.  We can see that higher numbered zip codes generally have higher numbers of dog licenses."
   ]
  },
  {
   "cell_type": "code",
   "execution_count": 26,
   "metadata": {},
   "outputs": [
    {
     "data": {
      "text/plain": [
       "15235    1233\n",
       "15227    1120\n",
       "15221     500\n",
       "15205     434\n",
       "15234     407\n",
       "15216     337\n",
       "15215     325\n",
       "15218     276\n",
       "15220     235\n",
       "15214     156\n",
       "15212      79\n",
       "15210      70\n",
       "15226      39\n",
       "15207      12\n",
       "15219      12\n",
       "15217       9\n",
       "15208       7\n",
       "15206       6\n",
       "15201       5\n",
       "15233       5\n",
       "15232       5\n",
       "15203       4\n",
       "15222       3\n",
       "15224       2\n",
       "15213       2\n",
       "15211       2\n",
       "15204       1\n",
       "15230       1\n",
       "Name: OwnerZip, dtype: int64"
      ]
     },
     "execution_count": 26,
     "metadata": {},
     "output_type": "execute_result"
    }
   ],
   "source": [
    "pitt_zips[\"OwnerZip\"].value_counts()"
   ]
  },
  {
   "cell_type": "code",
   "execution_count": 34,
   "metadata": {},
   "outputs": [
    {
     "data": {
      "text/plain": [
       "<matplotlib.axes._subplots.AxesSubplot at 0x7f644d644670>"
      ]
     },
     "execution_count": 34,
     "metadata": {},
     "output_type": "execute_result"
    },
    {
     "data": {
      "image/png": "[encoded data removed]",
      "text/plain": [
       "<Figure size 432x288 with 1 Axes>"
      ]
     },
     "metadata": {},
     "output_type": "display_data"
    }
   ],
   "source": [
    "plt.style.use('seaborn-pastel')\n",
    "pitt_zips['OwnerZip'].hist(bins=20)"
   ]
  },
  {
   "cell_type": "markdown",
   "metadata": {},
   "source": [
    "There is some general data exploration going on before doing the final calculations for the region.  The pi chart is a representation of the types of licenses within the city."
   ]
  },
  {
   "cell_type": "code",
   "execution_count": 27,
   "metadata": {},
   "outputs": [
    {
     "data": {
      "text/plain": [
       "<matplotlib.axes._subplots.AxesSubplot at 0x7f74c49cddf0>"
      ]
     },
     "execution_count": 27,
     "metadata": {},
     "output_type": "execute_result"
    },
    {
     "data": {
      "image/png": "[encoded data removed]",
      "text/plain": [
       "<Figure size 576x288 with 1 Axes>"
      ]
     },
     "metadata": {},
     "output_type": "display_data"
    }
   ],
   "source": [
    "plt.style.use('bmh')\n",
    "pitt_zips['LicenseType'].value_counts().sort_index().plot.pie(y='LicenseType',\n",
    "                                                             subplots=False,\n",
    "                                                             figsize=(8,4))"
   ]
  },
  {
   "cell_type": "markdown",
   "metadata": {},
   "source": [
    "The graph is an unfiltered bar chart of all of the breeds of dogs within the region, which is unreadable due to the large number of dogs within the area."
   ]
  },
  {
   "cell_type": "code",
   "execution_count": 12,
   "metadata": {},
   "outputs": [
    {
     "data": {
      "text/plain": [
       "<matplotlib.axes._subplots.AxesSubplot at 0x7f74c51083d0>"
      ]
     },
     "execution_count": 12,
     "metadata": {},
     "output_type": "execute_result"
    },
    {
     "data": {
      "image/png": "[encoded data removed]",
      "text/plain": [
       "<Figure size 432x288 with 1 Axes>"
      ]
     },
     "metadata": {
      "needs_background": "light"
     },
     "output_type": "display_data"
    }
   ],
   "source": [
    "pitt_zips['Breed'].value_counts().sort_index().plot(kind='bar', rot=0)"
   ]
  },
  {
   "cell_type": "markdown",
   "metadata": {},
   "source": [
    "The code cell has the most popular dog breeds and the amount of each dog breed within the area."
   ]
  },
  {
   "cell_type": "code",
   "execution_count": 23,
   "metadata": {},
   "outputs": [
    {
     "data": {
      "text/plain": [
       "MIXED                  562\n",
       "LAB MIX                364\n",
       "LABRADOR RETRIEVER     298\n",
       "GER SHEPHERD           180\n",
       "GOLDEN RETRIEVER       175\n",
       "                      ... \n",
       "OTHER                    1\n",
       "MANCHESTER TERRIER       1\n",
       "BLACK RUSSIAN TERRI      1\n",
       "IRISH WOLFHOUND          1\n",
       "CAROLINA DOG             1\n",
       "Name: Breed, Length: 204, dtype: int64"
      ]
     },
     "execution_count": 23,
     "metadata": {},
     "output_type": "execute_result"
    }
   ],
   "source": [
    "pitt_zips['Breed'].value_counts()"
   ]
  },
  {
   "cell_type": "markdown",
   "metadata": {},
   "source": [
    "The total number of dogs that are within the region is 5287 since every dog license listed in the database expires in 2099."
   ]
  },
  {
   "cell_type": "code",
   "execution_count": 22,
   "metadata": {},
   "outputs": [
    {
     "data": {
      "text/plain": [
       "2099    5287\n",
       "Name: ExpYear, dtype: int64"
      ]
     },
     "execution_count": 22,
     "metadata": {},
     "output_type": "execute_result"
    }
   ],
   "source": [
    "pitt_zips['ExpYear'].value_counts()"
   ]
  },
  {
   "cell_type": "markdown",
   "metadata": {},
   "source": [
    "Rankings is a series that has zip codes and their corresponding rankings.  The rankings are created by dividing by the highest number of dogs within the region to create a percentage.  The percentage can be used to determine which areas are more dog friendly since more dog licenses would indicate a higher likelihood that there is housing or resources for a dog and their owner."
   ]
  },
  {
   "cell_type": "code",
   "execution_count": 36,
   "metadata": {},
   "outputs": [
    {
     "data": {
      "text/plain": [
       "15235    1.000000\n",
       "15227    0.908354\n",
       "15221    0.405515\n",
       "15205    0.351987\n",
       "15234    0.330089\n",
       "15216    0.273317\n",
       "15215    0.263585\n",
       "15218    0.223844\n",
       "15220    0.190592\n",
       "15214    0.126521\n",
       "15212    0.064071\n",
       "15210    0.056772\n",
       "15226    0.031630\n",
       "15207    0.009732\n",
       "15219    0.009732\n",
       "15217    0.007299\n",
       "15208    0.005677\n",
       "15206    0.004866\n",
       "15201    0.004055\n",
       "15233    0.004055\n",
       "15232    0.004055\n",
       "15203    0.003244\n",
       "15222    0.002433\n",
       "15224    0.001622\n",
       "15213    0.001622\n",
       "15211    0.001622\n",
       "15204    0.000811\n",
       "15230    0.000811\n",
       "Name: OwnerZip, dtype: float64"
      ]
     },
     "execution_count": 36,
     "metadata": {},
     "output_type": "execute_result"
    }
   ],
   "source": [
    "rankings = pitt_zips['OwnerZip'].value_counts() / 1233\n",
    "rankings"
   ]
  },
  {
   "cell_type": "markdown",
   "metadata": {},
   "source": [
    "A bar graph was created to give a visual of the results described above."
   ]
  },
  {
   "cell_type": "code",
   "execution_count": 39,
   "metadata": {},
   "outputs": [
    {
     "data": {
      "text/plain": [
       "<matplotlib.axes._subplots.AxesSubplot at 0x7f74c4472550>"
      ]
     },
     "execution_count": 39,
     "metadata": {},
     "output_type": "execute_result"
    },
    {
     "data": {
      "image/png": "[encoded data removed]",
      "text/plain": [
       "<Figure size 576x396 with 1 Axes>"
      ]
     },
     "metadata": {},
     "output_type": "display_data"
    }
   ],
   "source": [
    "plt.style.use('seaborn-dark-palette')\n",
    "rankings.plot.bar()"
   ]
  },
  {
   "cell_type": "markdown",
   "metadata": {},
   "source": [
    "According to the information given by the database, it can be concluded that **15235 is the zip code that is the most dog friendly** based on licensing and **15230 and 15204 are the least dog friendly.**\n",
    "\n",
    "*15235 contains the Borough of Churchill, Penn Hills and Wilkins Townships, and a part of the city and 15230 contains downtown businesses and 15204 contains part of the city in the areas of Sheraden, Elliott, Esplen, and Broadhead.*"
   ]
  },
  {
   "cell_type": "markdown",
   "metadata": {},
   "source": [
    "# **Conclusion:**\n",
    "\n",
    "According to my data, the favorite zipcode of my data is **15235** which includes the Borough of Churchill, Penn Hills and Wilkins Townships, and a part of the city.  This has a significant amount of dog licenses and therefore is considered the most dog friendly in the sense of the ability to license dogs.\n",
    "\n",
    "My personal favorite neighborhood in Pittsburgh is **Squirell Hill**.\n",
    "\n",
    "The best neighborhood in Pittsburgh based on group data is **Westwood**.  The zip code for Westwood is **15205**, which makes it my fourth highest ranked.  This ranks fairly high on my list but still disagrees with the personal favorite according to my dataset."
   ]
  },
  {
   "cell_type": "code",
   "execution_count": null,
   "metadata": {},
   "outputs": [],
   "source": []
  }
 ],
 "metadata": {
  "kernelspec": {
   "display_name": "Python 3",
   "language": "python",
   "name": "python3"
  },
  "language_info": {
   "codemirror_mode": {
    "name": "ipython",
    "version": 3
   },
   "file_extension": ".py",
   "mimetype": "text/x-python",
   "name": "python",
   "nbconvert_exporter": "python",
   "pygments_lexer": "ipython3",
   "version": "3.8.3"
  }
 },
 "nbformat": 4,
 "nbformat_minor": 4
}
