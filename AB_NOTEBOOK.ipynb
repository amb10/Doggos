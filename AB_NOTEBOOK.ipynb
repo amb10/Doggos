{
 "cells": [
  {
   "cell_type": "markdown",
   "metadata": {},
   "source": [
    "# **Alex's Journal**\n",
    "\n",
    "**Best Neighborhood in Pittsburgh**: *to be determined*\n",
    "\n",
    "<u>Metric</u>: Best place to own in dog in Pittsburgh\n",
    "\n",
    "<u>Databases</u>: *Housing/Licenses(mine)*, Supermarkets(Daniel), Parks(Nhu)"
   ]
  },
  {
   "cell_type": "code",
   "execution_count": null,
   "metadata": {},
   "outputs": [],
   "source": []
  }
 ],
 "metadata": {
  "kernelspec": {
   "display_name": "Python 3",
   "language": "python",
   "name": "python3"
  },
  "language_info": {
   "codemirror_mode": {
    "name": "ipython",
    "version": 3
   },
   "file_extension": ".py",
   "mimetype": "text/x-python",
   "name": "python",
   "nbconvert_exporter": "python",
   "pygments_lexer": "ipython3",
   "version": "3.8.3"
  }
 },
 "nbformat": 4,
 "nbformat_minor": 4
}
