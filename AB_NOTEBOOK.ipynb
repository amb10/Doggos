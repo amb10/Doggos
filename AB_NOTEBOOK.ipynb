{
 "cells": [
  {
   "cell_type": "markdown",
   "metadata": {},
   "source": [
    "# **Alex's Journal**\n",
    "\n",
    "**Best Neighborhood in Pittsburgh**: *to be determined*\n",
    "\n",
    "<u>Metric</u>: Best place to own in dog in Pittsburgh\n",
    "\n",
    "<u>Databases</u>: *Licenses(mine)*, Supermarkets(Daniel), Housing(Nhu)"
   ]
  },
  {
   "cell_type": "code",
   "execution_count": 2,
   "metadata": {},
   "outputs": [],
   "source": [
    "import pandas as pd\n",
    "import numpy as np\n",
    "%matplotlib inline\n",
    "import matplotlib.pyplot as plt\n",
    "\n",
    "dl = pd.read_csv(\"DogLicenses.csv\", index_col = \"DogName\")"
   ]
  },
  {
   "cell_type": "code",
   "execution_count": 11,
   "metadata": {},
   "outputs": [
    {
     "data": {
      "text/html": [
       "<div>\n",
       "<style scoped>\n",
       "    .dataframe tbody tr th:only-of-type {\n",
       "        vertical-align: middle;\n",
       "    }\n",
       "\n",
       "    .dataframe tbody tr th {\n",
       "        vertical-align: top;\n",
       "    }\n",
       "\n",
       "    .dataframe thead th {\n",
       "        text-align: right;\n",
       "    }\n",
       "</style>\n",
       "<table border=\"1\" class=\"dataframe\">\n",
       "  <thead>\n",
       "    <tr style=\"text-align: right;\">\n",
       "      <th></th>\n",
       "      <th>LicenseType</th>\n",
       "      <th>Breed</th>\n",
       "      <th>Color</th>\n",
       "      <th>OwnerZip</th>\n",
       "      <th>ExpYear</th>\n",
       "      <th>ValidDate</th>\n",
       "    </tr>\n",
       "    <tr>\n",
       "      <th>DogName</th>\n",
       "      <th></th>\n",
       "      <th></th>\n",
       "      <th></th>\n",
       "      <th></th>\n",
       "      <th></th>\n",
       "      <th></th>\n",
       "    </tr>\n",
       "  </thead>\n",
       "  <tbody>\n",
       "    <tr>\n",
       "      <th>SUMMER</th>\n",
       "      <td>Dog Lifetime Spayed Female</td>\n",
       "      <td>MIXED</td>\n",
       "      <td>WHITE</td>\n",
       "      <td>15044</td>\n",
       "      <td>2099</td>\n",
       "      <td>2014-10-16T14:07:39</td>\n",
       "    </tr>\n",
       "    <tr>\n",
       "      <th>FAWN</th>\n",
       "      <td>Dog Senior Lifetime Spayed Female</td>\n",
       "      <td>BLACK&amp;TAN COONHOUND</td>\n",
       "      <td>BLACK/BROWN</td>\n",
       "      <td>15084</td>\n",
       "      <td>2099</td>\n",
       "      <td>2017-02-08T15:35:38</td>\n",
       "    </tr>\n",
       "    <tr>\n",
       "      <th>TITAN</th>\n",
       "      <td>Dog Senior Lifetime Neutered Male</td>\n",
       "      <td>DOBERMAN PINSCHER</td>\n",
       "      <td>BLACK/TAN</td>\n",
       "      <td>15238</td>\n",
       "      <td>2099</td>\n",
       "      <td>2013-08-02T14:19:19</td>\n",
       "    </tr>\n",
       "    <tr>\n",
       "      <th>JAKE</th>\n",
       "      <td>Dog Senior Lifetime Neutered Male</td>\n",
       "      <td>GER SHORTHAIR POINT</td>\n",
       "      <td>SPOTTED</td>\n",
       "      <td>15090</td>\n",
       "      <td>2099</td>\n",
       "      <td>2019-01-22T15:12:07</td>\n",
       "    </tr>\n",
       "    <tr>\n",
       "      <th>FINN</th>\n",
       "      <td>Dog Lifetime Neutered Male</td>\n",
       "      <td>CAV KING CHAR SPANI</td>\n",
       "      <td>WHITE/BROWN</td>\n",
       "      <td>15090</td>\n",
       "      <td>2099</td>\n",
       "      <td>2015-08-11T09:34:08</td>\n",
       "    </tr>\n",
       "  </tbody>\n",
       "</table>\n",
       "</div>"
      ],
      "text/plain": [
       "                               LicenseType                Breed        Color  \\\n",
       "DogName                                                                        \n",
       "SUMMER          Dog Lifetime Spayed Female                MIXED        WHITE   \n",
       "FAWN     Dog Senior Lifetime Spayed Female  BLACK&TAN COONHOUND  BLACK/BROWN   \n",
       "TITAN    Dog Senior Lifetime Neutered Male    DOBERMAN PINSCHER    BLACK/TAN   \n",
       "JAKE     Dog Senior Lifetime Neutered Male  GER SHORTHAIR POINT      SPOTTED   \n",
       "FINN            Dog Lifetime Neutered Male  CAV KING CHAR SPANI  WHITE/BROWN   \n",
       "\n",
       "         OwnerZip  ExpYear            ValidDate  \n",
       "DogName                                          \n",
       "SUMMER      15044     2099  2014-10-16T14:07:39  \n",
       "FAWN        15084     2099  2017-02-08T15:35:38  \n",
       "TITAN       15238     2099  2013-08-02T14:19:19  \n",
       "JAKE        15090     2099  2019-01-22T15:12:07  \n",
       "FINN        15090     2099  2015-08-11T09:34:08  "
      ]
     },
     "execution_count": 11,
     "metadata": {},
     "output_type": "execute_result"
    }
   ],
   "source": [
    "dl.sample(5)"
   ]
  },
  {
   "cell_type": "markdown",
   "metadata": {},
   "source": [
    "The  Dog Licenses database is downloaded and stored as dl. The .head() method was to view the dataset and how the information appears with the column as owner zip codes in a random sample."
   ]
  },
  {
   "cell_type": "code",
   "execution_count": 12,
   "metadata": {},
   "outputs": [
    {
     "data": {
      "text/html": [
       "<div>\n",
       "<style scoped>\n",
       "    .dataframe tbody tr th:only-of-type {\n",
       "        vertical-align: middle;\n",
       "    }\n",
       "\n",
       "    .dataframe tbody tr th {\n",
       "        vertical-align: top;\n",
       "    }\n",
       "\n",
       "    .dataframe thead th {\n",
       "        text-align: right;\n",
       "    }\n",
       "</style>\n",
       "<table border=\"1\" class=\"dataframe\">\n",
       "  <thead>\n",
       "    <tr style=\"text-align: right;\">\n",
       "      <th></th>\n",
       "      <th>OwnerZip</th>\n",
       "      <th>ExpYear</th>\n",
       "    </tr>\n",
       "  </thead>\n",
       "  <tbody>\n",
       "    <tr>\n",
       "      <th>count</th>\n",
       "      <td>36633.000000</td>\n",
       "      <td>36633.0</td>\n",
       "    </tr>\n",
       "    <tr>\n",
       "      <th>mean</th>\n",
       "      <td>15155.909399</td>\n",
       "      <td>2099.0</td>\n",
       "    </tr>\n",
       "    <tr>\n",
       "      <th>std</th>\n",
       "      <td>285.835365</td>\n",
       "      <td>0.0</td>\n",
       "    </tr>\n",
       "    <tr>\n",
       "      <th>min</th>\n",
       "      <td>15003.000000</td>\n",
       "      <td>2099.0</td>\n",
       "    </tr>\n",
       "    <tr>\n",
       "      <th>25%</th>\n",
       "      <td>15101.000000</td>\n",
       "      <td>2099.0</td>\n",
       "    </tr>\n",
       "    <tr>\n",
       "      <th>50%</th>\n",
       "      <td>15137.000000</td>\n",
       "      <td>2099.0</td>\n",
       "    </tr>\n",
       "    <tr>\n",
       "      <th>75%</th>\n",
       "      <td>15228.000000</td>\n",
       "      <td>2099.0</td>\n",
       "    </tr>\n",
       "    <tr>\n",
       "      <th>max</th>\n",
       "      <td>47909.000000</td>\n",
       "      <td>2099.0</td>\n",
       "    </tr>\n",
       "  </tbody>\n",
       "</table>\n",
       "</div>"
      ],
      "text/plain": [
       "           OwnerZip  ExpYear\n",
       "count  36633.000000  36633.0\n",
       "mean   15155.909399   2099.0\n",
       "std      285.835365      0.0\n",
       "min    15003.000000   2099.0\n",
       "25%    15101.000000   2099.0\n",
       "50%    15137.000000   2099.0\n",
       "75%    15228.000000   2099.0\n",
       "max    47909.000000   2099.0"
      ]
     },
     "execution_count": 12,
     "metadata": {},
     "output_type": "execute_result"
    }
   ],
   "source": [
    "dl.describe()"
   ]
  },
  {
   "cell_type": "markdown",
   "metadata": {},
   "source": [
    "The describe method was used to see an overall of all of the data in the database."
   ]
  },
  {
   "cell_type": "code",
   "execution_count": 2,
   "metadata": {},
   "outputs": [
    {
     "data": {
      "text/plain": [
       "28"
      ]
     },
     "execution_count": 2,
     "metadata": {},
     "output_type": "execute_result"
    }
   ],
   "source": [
    "city_zips = [15201, 15203, 15204, 15205, 15206, 15207, 15208, 15210, 15211,\n",
    "            15212, 15213, 15214, 15215, 15216, 15217, 15218, 15219, 15220,\n",
    "            15221, 15222, 15224, 15226, 15227, 15230, 15232, 15233, 15234,\n",
    "            15235]\n",
    "len(city_zips)"
   ]
  },
  {
   "cell_type": "markdown",
   "metadata": {},
   "source": [
    "Creates a list of city zip codes and names as city_zip with the 28 zip codes."
   ]
  },
  {
   "cell_type": "code",
   "execution_count": 12,
   "metadata": {},
   "outputs": [
    {
     "data": {
      "text/html": [
       "<div>\n",
       "<style scoped>\n",
       "    .dataframe tbody tr th:only-of-type {\n",
       "        vertical-align: middle;\n",
       "    }\n",
       "\n",
       "    .dataframe tbody tr th {\n",
       "        vertical-align: top;\n",
       "    }\n",
       "\n",
       "    .dataframe thead th {\n",
       "        text-align: right;\n",
       "    }\n",
       "</style>\n",
       "<table border=\"1\" class=\"dataframe\">\n",
       "  <thead>\n",
       "    <tr style=\"text-align: right;\">\n",
       "      <th></th>\n",
       "      <th>LicenseType</th>\n",
       "      <th>Breed</th>\n",
       "      <th>Color</th>\n",
       "      <th>ExpYear</th>\n",
       "      <th>ValidDate</th>\n",
       "    </tr>\n",
       "    <tr>\n",
       "      <th>OwnerZip</th>\n",
       "      <th></th>\n",
       "      <th></th>\n",
       "      <th></th>\n",
       "      <th></th>\n",
       "      <th></th>\n",
       "    </tr>\n",
       "  </thead>\n",
       "  <tbody>\n",
       "    <tr>\n",
       "      <th>15003</th>\n",
       "      <td>31</td>\n",
       "      <td>31</td>\n",
       "      <td>31</td>\n",
       "      <td>31</td>\n",
       "      <td>31</td>\n",
       "    </tr>\n",
       "    <tr>\n",
       "      <th>15005</th>\n",
       "      <td>48</td>\n",
       "      <td>48</td>\n",
       "      <td>48</td>\n",
       "      <td>48</td>\n",
       "      <td>48</td>\n",
       "    </tr>\n",
       "    <tr>\n",
       "      <th>15006</th>\n",
       "      <td>7</td>\n",
       "      <td>7</td>\n",
       "      <td>7</td>\n",
       "      <td>7</td>\n",
       "      <td>7</td>\n",
       "    </tr>\n",
       "    <tr>\n",
       "      <th>15007</th>\n",
       "      <td>9</td>\n",
       "      <td>9</td>\n",
       "      <td>9</td>\n",
       "      <td>9</td>\n",
       "      <td>9</td>\n",
       "    </tr>\n",
       "    <tr>\n",
       "      <th>15012</th>\n",
       "      <td>3</td>\n",
       "      <td>3</td>\n",
       "      <td>3</td>\n",
       "      <td>3</td>\n",
       "      <td>3</td>\n",
       "    </tr>\n",
       "    <tr>\n",
       "      <th>...</th>\n",
       "      <td>...</td>\n",
       "      <td>...</td>\n",
       "      <td>...</td>\n",
       "      <td>...</td>\n",
       "      <td>...</td>\n",
       "    </tr>\n",
       "    <tr>\n",
       "      <th>16342</th>\n",
       "      <td>1</td>\n",
       "      <td>1</td>\n",
       "      <td>1</td>\n",
       "      <td>1</td>\n",
       "      <td>1</td>\n",
       "    </tr>\n",
       "    <tr>\n",
       "      <th>32081</th>\n",
       "      <td>1</td>\n",
       "      <td>1</td>\n",
       "      <td>1</td>\n",
       "      <td>1</td>\n",
       "      <td>1</td>\n",
       "    </tr>\n",
       "    <tr>\n",
       "      <th>33426</th>\n",
       "      <td>1</td>\n",
       "      <td>1</td>\n",
       "      <td>1</td>\n",
       "      <td>1</td>\n",
       "      <td>1</td>\n",
       "    </tr>\n",
       "    <tr>\n",
       "      <th>46845</th>\n",
       "      <td>1</td>\n",
       "      <td>1</td>\n",
       "      <td>1</td>\n",
       "      <td>1</td>\n",
       "      <td>1</td>\n",
       "    </tr>\n",
       "    <tr>\n",
       "      <th>47909</th>\n",
       "      <td>1</td>\n",
       "      <td>1</td>\n",
       "      <td>1</td>\n",
       "      <td>1</td>\n",
       "      <td>1</td>\n",
       "    </tr>\n",
       "  </tbody>\n",
       "</table>\n",
       "<p>129 rows × 5 columns</p>\n",
       "</div>"
      ],
      "text/plain": [
       "          LicenseType  Breed  Color  ExpYear  ValidDate\n",
       "OwnerZip                                               \n",
       "15003              31     31     31       31         31\n",
       "15005              48     48     48       48         48\n",
       "15006               7      7      7        7          7\n",
       "15007               9      9      9        9          9\n",
       "15012               3      3      3        3          3\n",
       "...               ...    ...    ...      ...        ...\n",
       "16342               1      1      1        1          1\n",
       "32081               1      1      1        1          1\n",
       "33426               1      1      1        1          1\n",
       "46845               1      1      1        1          1\n",
       "47909               1      1      1        1          1\n",
       "\n",
       "[129 rows x 5 columns]"
      ]
     },
     "execution_count": 12,
     "metadata": {},
     "output_type": "execute_result"
    }
   ],
   "source": [
    "dl.groupby(\"OwnerZip\").count()"
   ]
  },
  {
   "cell_type": "markdown",
   "metadata": {},
   "source": [
    "When filtered by owner zipcode, the data is presented like this."
   ]
  },
  {
   "cell_type": "code",
   "execution_count": 17,
   "metadata": {},
   "outputs": [
    {
     "ename": "NameError",
     "evalue": "name 'city_zips' is not defined",
     "output_type": "error",
     "traceback": [
      "\u001b[0;31m---------------------------------------------------------------------------\u001b[0m",
      "\u001b[0;31mNameError\u001b[0m                                 Traceback (most recent call last)",
      "\u001b[0;32m<ipython-input-17-6fc37c3ee3cd>\u001b[0m in \u001b[0;36m<module>\u001b[0;34m\u001b[0m\n\u001b[1;32m     12\u001b[0m             \u001b[0;32mreturn\u001b[0m \u001b[0;32mFalse\u001b[0m\u001b[0;34m\u001b[0m\u001b[0;34m\u001b[0m\u001b[0m\n\u001b[1;32m     13\u001b[0m \u001b[0;34m\u001b[0m\u001b[0m\n\u001b[0;32m---> 14\u001b[0;31m \u001b[0mpitt_zips\u001b[0m \u001b[0;34m=\u001b[0m \u001b[0mdl\u001b[0m\u001b[0;34m.\u001b[0m\u001b[0mgroupby\u001b[0m\u001b[0;34m(\u001b[0m\u001b[0;34m\"OwnerZip\"\u001b[0m\u001b[0;34m)\u001b[0m\u001b[0;34m.\u001b[0m\u001b[0mfilter\u001b[0m\u001b[0;34m(\u001b[0m\u001b[0mfilter_zips\u001b[0m\u001b[0;34m)\u001b[0m\u001b[0;34m\u001b[0m\u001b[0;34m\u001b[0m\u001b[0m\n\u001b[0m",
      "\u001b[0;32m/opt/tljh/user/lib/python3.8/site-packages/pandas/core/groupby/generic.py\u001b[0m in \u001b[0;36mfilter\u001b[0;34m(self, func, dropna, *args, **kwargs)\u001b[0m\n\u001b[1;32m   1570\u001b[0m             \u001b[0mobject\u001b[0m\u001b[0;34m.\u001b[0m\u001b[0m__setattr__\u001b[0m\u001b[0;34m(\u001b[0m\u001b[0mgroup\u001b[0m\u001b[0;34m,\u001b[0m \u001b[0;34m\"name\"\u001b[0m\u001b[0;34m,\u001b[0m \u001b[0mname\u001b[0m\u001b[0;34m)\u001b[0m\u001b[0;34m\u001b[0m\u001b[0;34m\u001b[0m\u001b[0m\n\u001b[1;32m   1571\u001b[0m \u001b[0;34m\u001b[0m\u001b[0m\n\u001b[0;32m-> 1572\u001b[0;31m             \u001b[0mres\u001b[0m \u001b[0;34m=\u001b[0m \u001b[0mfunc\u001b[0m\u001b[0;34m(\u001b[0m\u001b[0mgroup\u001b[0m\u001b[0;34m,\u001b[0m \u001b[0;34m*\u001b[0m\u001b[0margs\u001b[0m\u001b[0;34m,\u001b[0m \u001b[0;34m**\u001b[0m\u001b[0mkwargs\u001b[0m\u001b[0;34m)\u001b[0m\u001b[0;34m\u001b[0m\u001b[0;34m\u001b[0m\u001b[0m\n\u001b[0m\u001b[1;32m   1573\u001b[0m \u001b[0;34m\u001b[0m\u001b[0m\n\u001b[1;32m   1574\u001b[0m             \u001b[0;32mtry\u001b[0m\u001b[0;34m:\u001b[0m\u001b[0;34m\u001b[0m\u001b[0;34m\u001b[0m\u001b[0m\n",
      "\u001b[0;32m<ipython-input-17-6fc37c3ee3cd>\u001b[0m in \u001b[0;36mfilter_zips\u001b[0;34m(grouped)\u001b[0m\n\u001b[1;32m      1\u001b[0m \u001b[0;32mdef\u001b[0m \u001b[0mfilter_zips\u001b[0m\u001b[0;34m(\u001b[0m\u001b[0mgrouped\u001b[0m\u001b[0;34m)\u001b[0m\u001b[0;34m:\u001b[0m\u001b[0;34m\u001b[0m\u001b[0;34m\u001b[0m\u001b[0m\n\u001b[0;32m----> 2\u001b[0;31m     \u001b[0;32mif\u001b[0m \u001b[0mcompare_zips\u001b[0m\u001b[0;34m(\u001b[0m\u001b[0mgrouped\u001b[0m\u001b[0;34m.\u001b[0m\u001b[0miloc\u001b[0m\u001b[0;34m[\u001b[0m\u001b[0;36m0\u001b[0m\u001b[0;34m,\u001b[0m\u001b[0;36m1\u001b[0m\u001b[0;34m]\u001b[0m\u001b[0;34m)\u001b[0m\u001b[0;34m:\u001b[0m\u001b[0;34m\u001b[0m\u001b[0;34m\u001b[0m\u001b[0m\n\u001b[0m\u001b[1;32m      3\u001b[0m         \u001b[0;32mreturn\u001b[0m \u001b[0;32mTrue\u001b[0m\u001b[0;34m\u001b[0m\u001b[0;34m\u001b[0m\u001b[0m\n\u001b[1;32m      4\u001b[0m     \u001b[0;32melse\u001b[0m\u001b[0;34m:\u001b[0m\u001b[0;34m\u001b[0m\u001b[0;34m\u001b[0m\u001b[0m\n\u001b[1;32m      5\u001b[0m         \u001b[0;32mreturn\u001b[0m \u001b[0;32mFalse\u001b[0m\u001b[0;34m\u001b[0m\u001b[0;34m\u001b[0m\u001b[0m\n",
      "\u001b[0;32m<ipython-input-17-6fc37c3ee3cd>\u001b[0m in \u001b[0;36mcompare_zips\u001b[0;34m(owner_zip)\u001b[0m\n\u001b[1;32m      6\u001b[0m \u001b[0;34m\u001b[0m\u001b[0m\n\u001b[1;32m      7\u001b[0m \u001b[0;32mdef\u001b[0m \u001b[0mcompare_zips\u001b[0m\u001b[0;34m(\u001b[0m\u001b[0mowner_zip\u001b[0m\u001b[0;34m)\u001b[0m\u001b[0;34m:\u001b[0m\u001b[0;34m\u001b[0m\u001b[0;34m\u001b[0m\u001b[0m\n\u001b[0;32m----> 8\u001b[0;31m     \u001b[0;32mfor\u001b[0m \u001b[0mi\u001b[0m \u001b[0;32min\u001b[0m \u001b[0mcity_zips\u001b[0m\u001b[0;34m:\u001b[0m\u001b[0;34m\u001b[0m\u001b[0;34m\u001b[0m\u001b[0m\n\u001b[0m\u001b[1;32m      9\u001b[0m         \u001b[0;32mif\u001b[0m \u001b[0mcity_zips\u001b[0m\u001b[0;34m[\u001b[0m\u001b[0mi\u001b[0m\u001b[0;34m-\u001b[0m\u001b[0;36m1\u001b[0m\u001b[0;34m]\u001b[0m \u001b[0;34m==\u001b[0m \u001b[0mowner_zip\u001b[0m\u001b[0;34m:\u001b[0m\u001b[0;34m\u001b[0m\u001b[0;34m\u001b[0m\u001b[0m\n\u001b[1;32m     10\u001b[0m             \u001b[0;32mreturn\u001b[0m \u001b[0;32mTrue\u001b[0m\u001b[0;34m\u001b[0m\u001b[0;34m\u001b[0m\u001b[0m\n",
      "\u001b[0;31mNameError\u001b[0m: name 'city_zips' is not defined"
     ]
    }
   ],
   "source": [
    "def filter_zips(grouped):\n",
    "    if compare_zips(grouped.iloc[0,1]):\n",
    "        return True\n",
    "    else:\n",
    "        return False\n",
    "    \n",
    "def compare_zips(owner_zip):\n",
    "    for i in city_zips:\n",
    "        if city_zips[i-1] == owner_zip:\n",
    "            return True\n",
    "        else:\n",
    "            return False\n",
    "    \n",
    "pitt_zips = dl.groupby(\"OwnerZip\").filter(filter_zips)"
   ]
  },
  {
   "cell_type": "markdown",
   "metadata": {},
   "source": [
    "Attempt at filter function to filter for just the zip codes.\n",
    "Errors with:\n",
    "* Line 14 with OwnerZip part of filtering\n",
    "* If statement in line 2\n",
    "* For statement in line 8"
   ]
  },
  {
   "cell_type": "code",
   "execution_count": 13,
   "metadata": {},
   "outputs": [
    {
     "data": {
      "text/plain": [
       "DogName\n",
       "SASHA              False\n",
       "JAKE               False\n",
       "SHILOH             False\n",
       "BLONDIE            False\n",
       "SASHA              False\n",
       "CODY               False\n",
       "CHARLIE            False\n",
       "COLT               False\n",
       "CANDY              False\n",
       "KEENA               True\n",
       "AMOS               False\n",
       "BEAR               False\n",
       "MADISON            False\n",
       "TENNESEE TUXEDO    False\n",
       "HOLLY              False\n",
       "Name: OwnerZip, dtype: bool"
      ]
     },
     "execution_count": 13,
     "metadata": {},
     "output_type": "execute_result"
    }
   ],
   "source": [
    "query_mask201 = dl['OwnerZip'] == 15201\n",
    "query_mask203 = dl['OwnerZip'] == 15203\n",
    "query_mask204 = dl['OwnerZip'] == 15204\n",
    "query_mask205 = dl['OwnerZip'] == 15205\n",
    "query_mask206 = dl['OwnerZip'] == 15206\n",
    "query_mask207 = dl['OwnerZip'] == 15207\n",
    "query_mask208 = dl['OwnerZip'] == 15208\n",
    "query_mask210 = dl['OwnerZip'] == 15210\n",
    "query_mask211 = dl['OwnerZip'] == 15211\n",
    "query_mask212 = dl['OwnerZip'] == 15212\n",
    "query_mask213 = dl['OwnerZip'] == 15213\n",
    "query_mask214 = dl['OwnerZip'] == 15214\n",
    "query_mask215 = dl['OwnerZip'] == 15215\n",
    "query_mask216 = dl['OwnerZip'] == 15216\n",
    "query_mask217 = dl['OwnerZip'] == 15217\n",
    "query_mask218 = dl['OwnerZip'] == 15218\n",
    "query_mask219 = dl['OwnerZip'] == 15219\n",
    "query_mask220 = dl['OwnerZip'] == 15220\n",
    "query_mask221 = dl['OwnerZip'] == 15221\n",
    "query_mask222 = dl['OwnerZip'] == 15222\n",
    "query_mask224 = dl['OwnerZip'] == 15224\n",
    "query_mask226 = dl['OwnerZip'] == 15226\n",
    "query_mask227 = dl['OwnerZip'] == 15227\n",
    "query_mask230 = dl['OwnerZip'] == 15230\n",
    "query_mask233 = dl['OwnerZip'] == 15233\n",
    "query_mask234 = dl['OwnerZip'] == 15234 \n",
    "query_mask235 = dl['OwnerZip'] == 15235\n",
    "\n",
    "query_mask235.head(15)"
   ]
  },
  {
   "cell_type": "markdown",
   "metadata": {},
   "source": [
    "Different approach to filtering using individual query masks and then later combining them to create a longer list of combined query masks.\n",
    "The .head() method was used a test to confirm mask was working, resulted in success."
   ]
  },
  {
   "cell_type": "code",
   "execution_count": 14,
   "metadata": {},
   "outputs": [
    {
     "name": "stderr",
     "output_type": "stream",
     "text": [
      "<ipython-input-14-9b679988ced0>:3: DeprecationWarning: In future, it will be an error for 'np.bool_' scalars to be interpreted as an index\n",
      "  ulist.insert(query_mask[i], index)\n"
     ]
    }
   ],
   "source": [
    "def combine(ulist, query_mask, index):\n",
    "    for i in query_mask:\n",
    "        ulist.insert(query_mask[i], index)\n",
    "        index += 1\n",
    "        \n",
    "    return index\n",
    "\n",
    "index = 0\n",
    "city_dogs = []\n",
    "index = combine(city_dogs, query_mask201, index)"
   ]
  },
  {
   "cell_type": "markdown",
   "metadata": {},
   "source": [
    "This piece was meant to combine the query masks with the combine method accepting list that will result in all query masks being contained within it, the query mask being added currently, and the index of the combined list that currently can be added to.\n",
    "Code cell results in *\"DeprecationWarning: In future, it will be an error for 'np.bool_' scalars to be interpreted as an index\n",
    "  ulist.insert(query_mask[i], index)\"*"
   ]
  },
  {
   "cell_type": "markdown",
   "metadata": {},
   "source": [
    "To-Do List:\n",
    "* Filter out non-pitt zips\n",
    "* Show new data in describe and sample\n",
    "* Create a graph describing dog friendly areas and explain it"
   ]
  }
 ],
 "metadata": {
  "kernelspec": {
   "display_name": "Python 3",
   "language": "python",
   "name": "python3"
  },
  "language_info": {
   "codemirror_mode": {
    "name": "ipython",
    "version": 3
   },
   "file_extension": ".py",
   "mimetype": "text/x-python",
   "name": "python",
   "nbconvert_exporter": "python",
   "pygments_lexer": "ipython3",
   "version": "3.8.3"
  }
 },
 "nbformat": 4,
 "nbformat_minor": 4
}
