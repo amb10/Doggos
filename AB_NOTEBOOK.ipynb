{
 "cells": [
  {
   "cell_type": "markdown",
   "metadata": {},
   "source": [
    "# **Alex's Journal**\n",
    "\n",
    "**Best Neighborhood in Pittsburgh**: *to be determined*\n",
    "\n",
    "<u>Metric</u>: Best place to own in dog in Pittsburgh\n",
    "\n",
    "<u>Databases</u>: *Licenses(mine)*, Supermarkets(Daniel), Housing(Nhu)"
   ]
  },
  {
   "cell_type": "code",
   "execution_count": 10,
   "metadata": {},
   "outputs": [],
   "source": [
    "import pandas as pd\n",
    "import numpy as np\n",
    "%matplotlib inline\n",
    "import matplotlib.pyplot as plt\n",
    "\n",
    "dl = pd.read_csv(\"DogLicenses.csv\", index_col = \"DogName\")"
   ]
  },
  {
   "cell_type": "code",
   "execution_count": 11,
   "metadata": {},
   "outputs": [
    {
     "data": {
      "text/html": [
       "<div>\n",
       "<style scoped>\n",
       "    .dataframe tbody tr th:only-of-type {\n",
       "        vertical-align: middle;\n",
       "    }\n",
       "\n",
       "    .dataframe tbody tr th {\n",
       "        vertical-align: top;\n",
       "    }\n",
       "\n",
       "    .dataframe thead th {\n",
       "        text-align: right;\n",
       "    }\n",
       "</style>\n",
       "<table border=\"1\" class=\"dataframe\">\n",
       "  <thead>\n",
       "    <tr style=\"text-align: right;\">\n",
       "      <th></th>\n",
       "      <th>LicenseType</th>\n",
       "      <th>Breed</th>\n",
       "      <th>Color</th>\n",
       "      <th>OwnerZip</th>\n",
       "      <th>ExpYear</th>\n",
       "      <th>ValidDate</th>\n",
       "    </tr>\n",
       "    <tr>\n",
       "      <th>DogName</th>\n",
       "      <th></th>\n",
       "      <th></th>\n",
       "      <th></th>\n",
       "      <th></th>\n",
       "      <th></th>\n",
       "      <th></th>\n",
       "    </tr>\n",
       "  </thead>\n",
       "  <tbody>\n",
       "    <tr>\n",
       "      <th>SUMMER</th>\n",
       "      <td>Dog Lifetime Spayed Female</td>\n",
       "      <td>MIXED</td>\n",
       "      <td>WHITE</td>\n",
       "      <td>15044</td>\n",
       "      <td>2099</td>\n",
       "      <td>2014-10-16T14:07:39</td>\n",
       "    </tr>\n",
       "    <tr>\n",
       "      <th>FAWN</th>\n",
       "      <td>Dog Senior Lifetime Spayed Female</td>\n",
       "      <td>BLACK&amp;TAN COONHOUND</td>\n",
       "      <td>BLACK/BROWN</td>\n",
       "      <td>15084</td>\n",
       "      <td>2099</td>\n",
       "      <td>2017-02-08T15:35:38</td>\n",
       "    </tr>\n",
       "    <tr>\n",
       "      <th>TITAN</th>\n",
       "      <td>Dog Senior Lifetime Neutered Male</td>\n",
       "      <td>DOBERMAN PINSCHER</td>\n",
       "      <td>BLACK/TAN</td>\n",
       "      <td>15238</td>\n",
       "      <td>2099</td>\n",
       "      <td>2013-08-02T14:19:19</td>\n",
       "    </tr>\n",
       "    <tr>\n",
       "      <th>JAKE</th>\n",
       "      <td>Dog Senior Lifetime Neutered Male</td>\n",
       "      <td>GER SHORTHAIR POINT</td>\n",
       "      <td>SPOTTED</td>\n",
       "      <td>15090</td>\n",
       "      <td>2099</td>\n",
       "      <td>2019-01-22T15:12:07</td>\n",
       "    </tr>\n",
       "    <tr>\n",
       "      <th>FINN</th>\n",
       "      <td>Dog Lifetime Neutered Male</td>\n",
       "      <td>CAV KING CHAR SPANI</td>\n",
       "      <td>WHITE/BROWN</td>\n",
       "      <td>15090</td>\n",
       "      <td>2099</td>\n",
       "      <td>2015-08-11T09:34:08</td>\n",
       "    </tr>\n",
       "  </tbody>\n",
       "</table>\n",
       "</div>"
      ],
      "text/plain": [
       "                               LicenseType                Breed        Color  \\\n",
       "DogName                                                                        \n",
       "SUMMER          Dog Lifetime Spayed Female                MIXED        WHITE   \n",
       "FAWN     Dog Senior Lifetime Spayed Female  BLACK&TAN COONHOUND  BLACK/BROWN   \n",
       "TITAN    Dog Senior Lifetime Neutered Male    DOBERMAN PINSCHER    BLACK/TAN   \n",
       "JAKE     Dog Senior Lifetime Neutered Male  GER SHORTHAIR POINT      SPOTTED   \n",
       "FINN            Dog Lifetime Neutered Male  CAV KING CHAR SPANI  WHITE/BROWN   \n",
       "\n",
       "         OwnerZip  ExpYear            ValidDate  \n",
       "DogName                                          \n",
       "SUMMER      15044     2099  2014-10-16T14:07:39  \n",
       "FAWN        15084     2099  2017-02-08T15:35:38  \n",
       "TITAN       15238     2099  2013-08-02T14:19:19  \n",
       "JAKE        15090     2099  2019-01-22T15:12:07  \n",
       "FINN        15090     2099  2015-08-11T09:34:08  "
      ]
     },
     "execution_count": 11,
     "metadata": {},
     "output_type": "execute_result"
    }
   ],
   "source": [
    "dl.sample(5)"
   ]
  },
  {
   "cell_type": "markdown",
   "metadata": {},
   "source": [
    "The  Dog Licenses database is downloaded and stored as dl. The .head() method was to view the dataset and how the information appears with the column as owner zip codes in a random sample."
   ]
  },
  {
   "cell_type": "code",
   "execution_count": 12,
   "metadata": {},
   "outputs": [
    {
     "data": {
      "text/html": [
       "<div>\n",
       "<style scoped>\n",
       "    .dataframe tbody tr th:only-of-type {\n",
       "        vertical-align: middle;\n",
       "    }\n",
       "\n",
       "    .dataframe tbody tr th {\n",
       "        vertical-align: top;\n",
       "    }\n",
       "\n",
       "    .dataframe thead th {\n",
       "        text-align: right;\n",
       "    }\n",
       "</style>\n",
       "<table border=\"1\" class=\"dataframe\">\n",
       "  <thead>\n",
       "    <tr style=\"text-align: right;\">\n",
       "      <th></th>\n",
       "      <th>OwnerZip</th>\n",
       "      <th>ExpYear</th>\n",
       "    </tr>\n",
       "  </thead>\n",
       "  <tbody>\n",
       "    <tr>\n",
       "      <th>count</th>\n",
       "      <td>36633.000000</td>\n",
       "      <td>36633.0</td>\n",
       "    </tr>\n",
       "    <tr>\n",
       "      <th>mean</th>\n",
       "      <td>15155.909399</td>\n",
       "      <td>2099.0</td>\n",
       "    </tr>\n",
       "    <tr>\n",
       "      <th>std</th>\n",
       "      <td>285.835365</td>\n",
       "      <td>0.0</td>\n",
       "    </tr>\n",
       "    <tr>\n",
       "      <th>min</th>\n",
       "      <td>15003.000000</td>\n",
       "      <td>2099.0</td>\n",
       "    </tr>\n",
       "    <tr>\n",
       "      <th>25%</th>\n",
       "      <td>15101.000000</td>\n",
       "      <td>2099.0</td>\n",
       "    </tr>\n",
       "    <tr>\n",
       "      <th>50%</th>\n",
       "      <td>15137.000000</td>\n",
       "      <td>2099.0</td>\n",
       "    </tr>\n",
       "    <tr>\n",
       "      <th>75%</th>\n",
       "      <td>15228.000000</td>\n",
       "      <td>2099.0</td>\n",
       "    </tr>\n",
       "    <tr>\n",
       "      <th>max</th>\n",
       "      <td>47909.000000</td>\n",
       "      <td>2099.0</td>\n",
       "    </tr>\n",
       "  </tbody>\n",
       "</table>\n",
       "</div>"
      ],
      "text/plain": [
       "           OwnerZip  ExpYear\n",
       "count  36633.000000  36633.0\n",
       "mean   15155.909399   2099.0\n",
       "std      285.835365      0.0\n",
       "min    15003.000000   2099.0\n",
       "25%    15101.000000   2099.0\n",
       "50%    15137.000000   2099.0\n",
       "75%    15228.000000   2099.0\n",
       "max    47909.000000   2099.0"
      ]
     },
     "execution_count": 12,
     "metadata": {},
     "output_type": "execute_result"
    }
   ],
   "source": [
    "dl.describe()"
   ]
  },
  {
   "cell_type": "markdown",
   "metadata": {},
   "source": [
    "The describe method was used to see an overall of all of the data in the database."
   ]
  },
  {
   "cell_type": "code",
   "execution_count": 13,
   "metadata": {},
   "outputs": [],
   "source": [
    "pitt_zip = [15201, 15203, 15204, 15205, 15206, 15207, 15208, 15210, 15211,\n",
    "            15212, 15213, 15214, 15215, 15216, 15217, 15218, 15219, 15220,\n",
    "            15221, 15222, 15224, 15226, 15227, 15230, 15232, 15233, 15234,\n",
    "            15235]"
   ]
  },
  {
   "cell_type": "markdown",
   "metadata": {},
   "source": [
    "Creates a list of city zip codes and names as pitt_zip."
   ]
  },
  {
   "cell_type": "markdown",
   "metadata": {},
   "source": [
    "To-Do List:\n",
    "* Filter out non-pitt zips\n",
    "* Show new data in describe and sample\n",
    "* Create a graph describing dog friendly areas and explain it"
   ]
  }
 ],
 "metadata": {
  "kernelspec": {
   "display_name": "Python 3",
   "language": "python",
   "name": "python3"
  },
  "language_info": {
   "codemirror_mode": {
    "name": "ipython",
    "version": 3
   },
   "file_extension": ".py",
   "mimetype": "text/x-python",
   "name": "python",
   "nbconvert_exporter": "python",
   "pygments_lexer": "ipython3",
   "version": "3.8.3"
  }
 },
 "nbformat": 4,
 "nbformat_minor": 4
}
